{
  "nbformat": 4,
  "nbformat_minor": 0,
  "metadata": {
    "colab": {
      "name": "Moringa_Data_Science_Prep_W4_Independent_Project_2022_02_Kiprop_Amos_Python_Notebook",
      "provenance": [],
      "toc_visible": true
    },
    "kernelspec": {
      "name": "python3",
      "display_name": "Python 3"
    },
    "language_info": {
      "name": "python"
    }
  },
  "cells": [
    {
      "cell_type": "markdown",
      "source": [
        "# Analysis of electric car usage\n",
        "## Research Question\n",
        "\n",
        "- Identify the most popular hour of the day for picking up a shared electric car (Bluecar) in the city of Paris over the month of April 2018.\n",
        "\n",
        "## Bonus Questions (Optional)\n",
        "\n",
        "- What is the most popular hour for returning cars?\n",
        "- What station is the most popular? \n",
        "- -Overall?\n",
        "- At the most popular picking hour?\n",
        "- What postal code is the most popular for picking up Blue cars? Does the most popular station belong to that postal code?\n",
        "- - Overall?\n",
        "- -At the most popular picking hour?\n",
        "- Do the results change if you consider Utilib and Utilib 1.4 instead of Blue cars? "
      ],
      "metadata": {
        "id": "94YEQBBOR4W9"
      }
    },
    {
      "cell_type": "markdown",
      "source": [
        "## 1.0 Importing libraries"
      ],
      "metadata": {
        "id": "ku3TfOSt9pLK"
      }
    },
    {
      "cell_type": "code",
      "execution_count": 1,
      "metadata": {
        "id": "ZAnN0RozNg8r"
      },
      "outputs": [],
      "source": [
        "# Importing the libraries we will need \n",
        "\n",
        "# Importing the pandas library\n",
        "# \n",
        "import pandas as pd\n",
        "\n",
        "# Importing the numpy library\n",
        "#\n",
        "import numpy as np\n",
        "\n",
        "# Importing datetime library\n",
        "#\n",
        "import datetime as dt"
      ]
    },
    {
      "cell_type": "markdown",
      "source": [
        "## 1.1 Reading Dataset from CSV file"
      ],
      "metadata": {
        "id": "Pjag7nA_9xQA"
      }
    },
    {
      "cell_type": "code",
      "source": [
        "# Loading the dataset\n",
        "#\n",
        "url = 'http://bit.ly/autolib_dataset'\n",
        "autolib_data = pd.read_csv(url)"
      ],
      "metadata": {
        "id": "VTZBZ81UNi2z"
      },
      "execution_count": 2,
      "outputs": []
    },
    {
      "cell_type": "markdown",
      "source": [
        "## 1.2 Previewing the data set"
      ],
      "metadata": {
        "id": "-4q7YvRm-CzG"
      }
    },
    {
      "cell_type": "code",
      "source": [
        "# Getting to know more about the dataset by accessing its information\n",
        "#\n",
        "autolib_data.info()\n"
      ],
      "metadata": {
        "colab": {
          "base_uri": "https://localhost:8080/"
        },
        "id": "RYhQWas0OkV8",
        "outputId": "7f11f2fb-5798-49fc-d30b-360ab7476df4"
      },
      "execution_count": 3,
      "outputs": [
        {
          "output_type": "stream",
          "name": "stdout",
          "text": [
            "<class 'pandas.core.frame.DataFrame'>\n",
            "RangeIndex: 5000 entries, 0 to 4999\n",
            "Data columns (total 25 columns):\n",
            " #   Column               Non-Null Count  Dtype \n",
            "---  ------               --------------  ----- \n",
            " 0   Address              5000 non-null   object\n",
            " 1   Cars                 5000 non-null   int64 \n",
            " 2   Bluecar counter      5000 non-null   int64 \n",
            " 3   Utilib counter       5000 non-null   int64 \n",
            " 4   Utilib 1.4 counter   5000 non-null   int64 \n",
            " 5   Charge Slots         5000 non-null   int64 \n",
            " 6   Charging Status      5000 non-null   object\n",
            " 7   City                 5000 non-null   object\n",
            " 8   Displayed comment    111 non-null    object\n",
            " 9   ID                   5000 non-null   object\n",
            " 10  Kind                 5000 non-null   object\n",
            " 11  Geo point            5000 non-null   object\n",
            " 12  Postal code          5000 non-null   int64 \n",
            " 13  Public name          5000 non-null   object\n",
            " 14  Rental status        5000 non-null   object\n",
            " 15  Scheduled at         47 non-null     object\n",
            " 16  Slots                5000 non-null   int64 \n",
            " 17  Station type         5000 non-null   object\n",
            " 18  Status               5000 non-null   object\n",
            " 19  Subscription status  5000 non-null   object\n",
            " 20  year                 5000 non-null   int64 \n",
            " 21  month                5000 non-null   int64 \n",
            " 22  day                  5000 non-null   int64 \n",
            " 23  hour                 5000 non-null   int64 \n",
            " 24  minute               5000 non-null   int64 \n",
            "dtypes: int64(12), object(13)\n",
            "memory usage: 976.7+ KB\n"
          ]
        }
      ]
    },
    {
      "cell_type": "markdown",
      "source": [
        "## 1.3 Accessing information about dataset"
      ],
      "metadata": {
        "id": "4KNiWgiA-UX5"
      }
    },
    {
      "cell_type": "code",
      "source": [
        "# Previewing the firts five rows of taxi data\n",
        "#\n",
        "autolib_data.head()"
      ],
      "metadata": {
        "colab": {
          "base_uri": "https://localhost:8080/",
          "height": 496
        },
        "id": "-llVTT8e-SPe",
        "outputId": "38cd73b4-c7e7-4110-b474-09743caa01fe"
      },
      "execution_count": 4,
      "outputs": [
        {
          "output_type": "execute_result",
          "data": {
            "text/html": [
              "\n",
              "  <div id=\"df-dbbb2622-23a2-4a52-a8dc-430aa8ddc08d\">\n",
              "    <div class=\"colab-df-container\">\n",
              "      <div>\n",
              "<style scoped>\n",
              "    .dataframe tbody tr th:only-of-type {\n",
              "        vertical-align: middle;\n",
              "    }\n",
              "\n",
              "    .dataframe tbody tr th {\n",
              "        vertical-align: top;\n",
              "    }\n",
              "\n",
              "    .dataframe thead th {\n",
              "        text-align: right;\n",
              "    }\n",
              "</style>\n",
              "<table border=\"1\" class=\"dataframe\">\n",
              "  <thead>\n",
              "    <tr style=\"text-align: right;\">\n",
              "      <th></th>\n",
              "      <th>Address</th>\n",
              "      <th>Cars</th>\n",
              "      <th>Bluecar counter</th>\n",
              "      <th>Utilib counter</th>\n",
              "      <th>Utilib 1.4 counter</th>\n",
              "      <th>Charge Slots</th>\n",
              "      <th>Charging Status</th>\n",
              "      <th>City</th>\n",
              "      <th>Displayed comment</th>\n",
              "      <th>ID</th>\n",
              "      <th>Kind</th>\n",
              "      <th>Geo point</th>\n",
              "      <th>Postal code</th>\n",
              "      <th>Public name</th>\n",
              "      <th>Rental status</th>\n",
              "      <th>Scheduled at</th>\n",
              "      <th>Slots</th>\n",
              "      <th>Station type</th>\n",
              "      <th>Status</th>\n",
              "      <th>Subscription status</th>\n",
              "      <th>year</th>\n",
              "      <th>month</th>\n",
              "      <th>day</th>\n",
              "      <th>hour</th>\n",
              "      <th>minute</th>\n",
              "    </tr>\n",
              "  </thead>\n",
              "  <tbody>\n",
              "    <tr>\n",
              "      <th>0</th>\n",
              "      <td>2 Avenue de Suffren</td>\n",
              "      <td>0</td>\n",
              "      <td>0</td>\n",
              "      <td>0</td>\n",
              "      <td>0</td>\n",
              "      <td>0</td>\n",
              "      <td>nonexistent</td>\n",
              "      <td>Paris</td>\n",
              "      <td>NaN</td>\n",
              "      <td>paris-suffren-2</td>\n",
              "      <td>STATION</td>\n",
              "      <td>48.857, 2.2917</td>\n",
              "      <td>75015</td>\n",
              "      <td>Paris/Suffren/2</td>\n",
              "      <td>operational</td>\n",
              "      <td>NaN</td>\n",
              "      <td>2</td>\n",
              "      <td>station</td>\n",
              "      <td>ok</td>\n",
              "      <td>nonexistent</td>\n",
              "      <td>2018</td>\n",
              "      <td>4</td>\n",
              "      <td>8</td>\n",
              "      <td>11</td>\n",
              "      <td>43</td>\n",
              "    </tr>\n",
              "    <tr>\n",
              "      <th>1</th>\n",
              "      <td>145 Rue Raymond Losserand</td>\n",
              "      <td>6</td>\n",
              "      <td>6</td>\n",
              "      <td>0</td>\n",
              "      <td>0</td>\n",
              "      <td>0</td>\n",
              "      <td>operational</td>\n",
              "      <td>Paris</td>\n",
              "      <td>NaN</td>\n",
              "      <td>paris-raymondlosserand-145</td>\n",
              "      <td>STATION</td>\n",
              "      <td>48.83126, 2.313088</td>\n",
              "      <td>75014</td>\n",
              "      <td>Paris/Raymond Losserand/145</td>\n",
              "      <td>operational</td>\n",
              "      <td>NaN</td>\n",
              "      <td>0</td>\n",
              "      <td>station</td>\n",
              "      <td>ok</td>\n",
              "      <td>nonexistent</td>\n",
              "      <td>2018</td>\n",
              "      <td>4</td>\n",
              "      <td>6</td>\n",
              "      <td>7</td>\n",
              "      <td>24</td>\n",
              "    </tr>\n",
              "    <tr>\n",
              "      <th>2</th>\n",
              "      <td>2 Avenue John Fitzgerald Kennedy</td>\n",
              "      <td>3</td>\n",
              "      <td>3</td>\n",
              "      <td>0</td>\n",
              "      <td>2</td>\n",
              "      <td>0</td>\n",
              "      <td>operational</td>\n",
              "      <td>Le Bourget</td>\n",
              "      <td>NaN</td>\n",
              "      <td>lebourget-johnfitzgeraldkennedy-2</td>\n",
              "      <td>STATION</td>\n",
              "      <td>48.938103, 2.4286035</td>\n",
              "      <td>93350</td>\n",
              "      <td>Le Bourget/John Fitzgerald Kennedy/2</td>\n",
              "      <td>operational</td>\n",
              "      <td>NaN</td>\n",
              "      <td>1</td>\n",
              "      <td>station</td>\n",
              "      <td>ok</td>\n",
              "      <td>nonexistent</td>\n",
              "      <td>2018</td>\n",
              "      <td>4</td>\n",
              "      <td>3</td>\n",
              "      <td>20</td>\n",
              "      <td>14</td>\n",
              "    </tr>\n",
              "    <tr>\n",
              "      <th>3</th>\n",
              "      <td>51 Rue EugÃ¨ne OudinÃ©</td>\n",
              "      <td>3</td>\n",
              "      <td>3</td>\n",
              "      <td>1</td>\n",
              "      <td>0</td>\n",
              "      <td>1</td>\n",
              "      <td>operational</td>\n",
              "      <td>Paris</td>\n",
              "      <td>NaN</td>\n",
              "      <td>paris-eugeneoudine-51</td>\n",
              "      <td>STATION</td>\n",
              "      <td>48.8250327, 2.3725162</td>\n",
              "      <td>75013</td>\n",
              "      <td>Paris/EugÃ¨ne OudinÃ©/51</td>\n",
              "      <td>operational</td>\n",
              "      <td>NaN</td>\n",
              "      <td>2</td>\n",
              "      <td>station</td>\n",
              "      <td>ok</td>\n",
              "      <td>nonexistent</td>\n",
              "      <td>2018</td>\n",
              "      <td>4</td>\n",
              "      <td>4</td>\n",
              "      <td>4</td>\n",
              "      <td>37</td>\n",
              "    </tr>\n",
              "    <tr>\n",
              "      <th>4</th>\n",
              "      <td>6 avenue de la Porte de Champerret</td>\n",
              "      <td>3</td>\n",
              "      <td>3</td>\n",
              "      <td>0</td>\n",
              "      <td>0</td>\n",
              "      <td>0</td>\n",
              "      <td>nonexistent</td>\n",
              "      <td>Paris</td>\n",
              "      <td>NaN</td>\n",
              "      <td>paris-portedechamperret-6</td>\n",
              "      <td>PARKING</td>\n",
              "      <td>48.8862632, 2.2874511</td>\n",
              "      <td>75017</td>\n",
              "      <td>Paris/Porte de Champerret/6</td>\n",
              "      <td>operational</td>\n",
              "      <td>NaN</td>\n",
              "      <td>3</td>\n",
              "      <td>station</td>\n",
              "      <td>ok</td>\n",
              "      <td>nonexistent</td>\n",
              "      <td>2018</td>\n",
              "      <td>4</td>\n",
              "      <td>8</td>\n",
              "      <td>17</td>\n",
              "      <td>23</td>\n",
              "    </tr>\n",
              "  </tbody>\n",
              "</table>\n",
              "</div>\n",
              "      <button class=\"colab-df-convert\" onclick=\"convertToInteractive('df-dbbb2622-23a2-4a52-a8dc-430aa8ddc08d')\"\n",
              "              title=\"Convert this dataframe to an interactive table.\"\n",
              "              style=\"display:none;\">\n",
              "        \n",
              "  <svg xmlns=\"http://www.w3.org/2000/svg\" height=\"24px\"viewBox=\"0 0 24 24\"\n",
              "       width=\"24px\">\n",
              "    <path d=\"M0 0h24v24H0V0z\" fill=\"none\"/>\n",
              "    <path d=\"M18.56 5.44l.94 2.06.94-2.06 2.06-.94-2.06-.94-.94-2.06-.94 2.06-2.06.94zm-11 1L8.5 8.5l.94-2.06 2.06-.94-2.06-.94L8.5 2.5l-.94 2.06-2.06.94zm10 10l.94 2.06.94-2.06 2.06-.94-2.06-.94-.94-2.06-.94 2.06-2.06.94z\"/><path d=\"M17.41 7.96l-1.37-1.37c-.4-.4-.92-.59-1.43-.59-.52 0-1.04.2-1.43.59L10.3 9.45l-7.72 7.72c-.78.78-.78 2.05 0 2.83L4 21.41c.39.39.9.59 1.41.59.51 0 1.02-.2 1.41-.59l7.78-7.78 2.81-2.81c.8-.78.8-2.07 0-2.86zM5.41 20L4 18.59l7.72-7.72 1.47 1.35L5.41 20z\"/>\n",
              "  </svg>\n",
              "      </button>\n",
              "      \n",
              "  <style>\n",
              "    .colab-df-container {\n",
              "      display:flex;\n",
              "      flex-wrap:wrap;\n",
              "      gap: 12px;\n",
              "    }\n",
              "\n",
              "    .colab-df-convert {\n",
              "      background-color: #E8F0FE;\n",
              "      border: none;\n",
              "      border-radius: 50%;\n",
              "      cursor: pointer;\n",
              "      display: none;\n",
              "      fill: #1967D2;\n",
              "      height: 32px;\n",
              "      padding: 0 0 0 0;\n",
              "      width: 32px;\n",
              "    }\n",
              "\n",
              "    .colab-df-convert:hover {\n",
              "      background-color: #E2EBFA;\n",
              "      box-shadow: 0px 1px 2px rgba(60, 64, 67, 0.3), 0px 1px 3px 1px rgba(60, 64, 67, 0.15);\n",
              "      fill: #174EA6;\n",
              "    }\n",
              "\n",
              "    [theme=dark] .colab-df-convert {\n",
              "      background-color: #3B4455;\n",
              "      fill: #D2E3FC;\n",
              "    }\n",
              "\n",
              "    [theme=dark] .colab-df-convert:hover {\n",
              "      background-color: #434B5C;\n",
              "      box-shadow: 0px 1px 3px 1px rgba(0, 0, 0, 0.15);\n",
              "      filter: drop-shadow(0px 1px 2px rgba(0, 0, 0, 0.3));\n",
              "      fill: #FFFFFF;\n",
              "    }\n",
              "  </style>\n",
              "\n",
              "      <script>\n",
              "        const buttonEl =\n",
              "          document.querySelector('#df-dbbb2622-23a2-4a52-a8dc-430aa8ddc08d button.colab-df-convert');\n",
              "        buttonEl.style.display =\n",
              "          google.colab.kernel.accessAllowed ? 'block' : 'none';\n",
              "\n",
              "        async function convertToInteractive(key) {\n",
              "          const element = document.querySelector('#df-dbbb2622-23a2-4a52-a8dc-430aa8ddc08d');\n",
              "          const dataTable =\n",
              "            await google.colab.kernel.invokeFunction('convertToInteractive',\n",
              "                                                     [key], {});\n",
              "          if (!dataTable) return;\n",
              "\n",
              "          const docLinkHtml = 'Like what you see? Visit the ' +\n",
              "            '<a target=\"_blank\" href=https://colab.research.google.com/notebooks/data_table.ipynb>data table notebook</a>'\n",
              "            + ' to learn more about interactive tables.';\n",
              "          element.innerHTML = '';\n",
              "          dataTable['output_type'] = 'display_data';\n",
              "          await google.colab.output.renderOutput(dataTable, element);\n",
              "          const docLink = document.createElement('div');\n",
              "          docLink.innerHTML = docLinkHtml;\n",
              "          element.appendChild(docLink);\n",
              "        }\n",
              "      </script>\n",
              "    </div>\n",
              "  </div>\n",
              "  "
            ],
            "text/plain": [
              "                              Address  Cars  Bluecar counter  ...  day  hour  minute\n",
              "0                 2 Avenue de Suffren     0                0  ...    8    11      43\n",
              "1           145 Rue Raymond Losserand     6                6  ...    6     7      24\n",
              "2    2 Avenue John Fitzgerald Kennedy     3                3  ...    3    20      14\n",
              "3              51 Rue EugÃ¨ne OudinÃ©     3                3  ...    4     4      37\n",
              "4  6 avenue de la Porte de Champerret     3                3  ...    8    17      23\n",
              "\n",
              "[5 rows x 25 columns]"
            ]
          },
          "metadata": {},
          "execution_count": 4
        }
      ]
    },
    {
      "cell_type": "markdown",
      "source": [
        "## 1.4 Data cleaning\n"
      ],
      "metadata": {
        "id": "TdY2NoSe9Zgy"
      }
    },
    {
      "cell_type": "markdown",
      "source": [
        "### 1.4.1) <font color=\"green\">Validity</font>"
      ],
      "metadata": {
        "id": "Magh-PywYUQD"
      }
    },
    {
      "cell_type": "markdown",
      "source": [
        " adding columns, Dropping unwated columns, merging columns to get desired attributings, and changing of datatypes of the various columns"
      ],
      "metadata": {
        "id": "jQM3rILABBk5"
      }
    },
    {
      "cell_type": "code",
      "source": [
        "# Add column seconds\n",
        "#\n",
        "autolib_data['sec'] = '00'"
      ],
      "metadata": {
        "id": "roAnQgkr48Y_"
      },
      "execution_count": 5,
      "outputs": []
    },
    {
      "cell_type": "code",
      "source": [
        "# Joining year day and month\n",
        "# Converting year column from integer to string\n",
        "#\n",
        "autolib_data['year'] = autolib_data['year'].astype(str)\n",
        "\n",
        "# Converting month column from integer to string\n",
        "#\n",
        "autolib_data['month'] = autolib_data['month'].astype(str)\n",
        "\n",
        "#Converting day column from integer to string\n",
        "#\n",
        "autolib_data['day'] = autolib_data['day'].astype(str)\n",
        "# Joining the year, day, and month column in the (YYYY-MM-DD) format\n",
        "#\n",
        "autolib_data['Date'] = autolib_data[['year', 'month', 'day']].agg('-'.join, axis = 1)\n",
        "\n",
        "# Previewing the data\n",
        "#\n",
        "autolib_data.head()"
      ],
      "metadata": {
        "id": "zCuBf4VUqaJA",
        "colab": {
          "base_uri": "https://localhost:8080/",
          "height": 496
        },
        "outputId": "e653b0aa-7de3-4ebc-c904-b3a3843a0891"
      },
      "execution_count": 6,
      "outputs": [
        {
          "output_type": "execute_result",
          "data": {
            "text/html": [
              "\n",
              "  <div id=\"df-35324f42-5987-41be-8fdc-953098bdbd12\">\n",
              "    <div class=\"colab-df-container\">\n",
              "      <div>\n",
              "<style scoped>\n",
              "    .dataframe tbody tr th:only-of-type {\n",
              "        vertical-align: middle;\n",
              "    }\n",
              "\n",
              "    .dataframe tbody tr th {\n",
              "        vertical-align: top;\n",
              "    }\n",
              "\n",
              "    .dataframe thead th {\n",
              "        text-align: right;\n",
              "    }\n",
              "</style>\n",
              "<table border=\"1\" class=\"dataframe\">\n",
              "  <thead>\n",
              "    <tr style=\"text-align: right;\">\n",
              "      <th></th>\n",
              "      <th>Address</th>\n",
              "      <th>Cars</th>\n",
              "      <th>Bluecar counter</th>\n",
              "      <th>Utilib counter</th>\n",
              "      <th>Utilib 1.4 counter</th>\n",
              "      <th>Charge Slots</th>\n",
              "      <th>Charging Status</th>\n",
              "      <th>City</th>\n",
              "      <th>Displayed comment</th>\n",
              "      <th>ID</th>\n",
              "      <th>Kind</th>\n",
              "      <th>Geo point</th>\n",
              "      <th>Postal code</th>\n",
              "      <th>Public name</th>\n",
              "      <th>Rental status</th>\n",
              "      <th>Scheduled at</th>\n",
              "      <th>Slots</th>\n",
              "      <th>Station type</th>\n",
              "      <th>Status</th>\n",
              "      <th>Subscription status</th>\n",
              "      <th>year</th>\n",
              "      <th>month</th>\n",
              "      <th>day</th>\n",
              "      <th>hour</th>\n",
              "      <th>minute</th>\n",
              "      <th>sec</th>\n",
              "      <th>Date</th>\n",
              "    </tr>\n",
              "  </thead>\n",
              "  <tbody>\n",
              "    <tr>\n",
              "      <th>0</th>\n",
              "      <td>2 Avenue de Suffren</td>\n",
              "      <td>0</td>\n",
              "      <td>0</td>\n",
              "      <td>0</td>\n",
              "      <td>0</td>\n",
              "      <td>0</td>\n",
              "      <td>nonexistent</td>\n",
              "      <td>Paris</td>\n",
              "      <td>NaN</td>\n",
              "      <td>paris-suffren-2</td>\n",
              "      <td>STATION</td>\n",
              "      <td>48.857, 2.2917</td>\n",
              "      <td>75015</td>\n",
              "      <td>Paris/Suffren/2</td>\n",
              "      <td>operational</td>\n",
              "      <td>NaN</td>\n",
              "      <td>2</td>\n",
              "      <td>station</td>\n",
              "      <td>ok</td>\n",
              "      <td>nonexistent</td>\n",
              "      <td>2018</td>\n",
              "      <td>4</td>\n",
              "      <td>8</td>\n",
              "      <td>11</td>\n",
              "      <td>43</td>\n",
              "      <td>00</td>\n",
              "      <td>2018-4-8</td>\n",
              "    </tr>\n",
              "    <tr>\n",
              "      <th>1</th>\n",
              "      <td>145 Rue Raymond Losserand</td>\n",
              "      <td>6</td>\n",
              "      <td>6</td>\n",
              "      <td>0</td>\n",
              "      <td>0</td>\n",
              "      <td>0</td>\n",
              "      <td>operational</td>\n",
              "      <td>Paris</td>\n",
              "      <td>NaN</td>\n",
              "      <td>paris-raymondlosserand-145</td>\n",
              "      <td>STATION</td>\n",
              "      <td>48.83126, 2.313088</td>\n",
              "      <td>75014</td>\n",
              "      <td>Paris/Raymond Losserand/145</td>\n",
              "      <td>operational</td>\n",
              "      <td>NaN</td>\n",
              "      <td>0</td>\n",
              "      <td>station</td>\n",
              "      <td>ok</td>\n",
              "      <td>nonexistent</td>\n",
              "      <td>2018</td>\n",
              "      <td>4</td>\n",
              "      <td>6</td>\n",
              "      <td>7</td>\n",
              "      <td>24</td>\n",
              "      <td>00</td>\n",
              "      <td>2018-4-6</td>\n",
              "    </tr>\n",
              "    <tr>\n",
              "      <th>2</th>\n",
              "      <td>2 Avenue John Fitzgerald Kennedy</td>\n",
              "      <td>3</td>\n",
              "      <td>3</td>\n",
              "      <td>0</td>\n",
              "      <td>2</td>\n",
              "      <td>0</td>\n",
              "      <td>operational</td>\n",
              "      <td>Le Bourget</td>\n",
              "      <td>NaN</td>\n",
              "      <td>lebourget-johnfitzgeraldkennedy-2</td>\n",
              "      <td>STATION</td>\n",
              "      <td>48.938103, 2.4286035</td>\n",
              "      <td>93350</td>\n",
              "      <td>Le Bourget/John Fitzgerald Kennedy/2</td>\n",
              "      <td>operational</td>\n",
              "      <td>NaN</td>\n",
              "      <td>1</td>\n",
              "      <td>station</td>\n",
              "      <td>ok</td>\n",
              "      <td>nonexistent</td>\n",
              "      <td>2018</td>\n",
              "      <td>4</td>\n",
              "      <td>3</td>\n",
              "      <td>20</td>\n",
              "      <td>14</td>\n",
              "      <td>00</td>\n",
              "      <td>2018-4-3</td>\n",
              "    </tr>\n",
              "    <tr>\n",
              "      <th>3</th>\n",
              "      <td>51 Rue EugÃ¨ne OudinÃ©</td>\n",
              "      <td>3</td>\n",
              "      <td>3</td>\n",
              "      <td>1</td>\n",
              "      <td>0</td>\n",
              "      <td>1</td>\n",
              "      <td>operational</td>\n",
              "      <td>Paris</td>\n",
              "      <td>NaN</td>\n",
              "      <td>paris-eugeneoudine-51</td>\n",
              "      <td>STATION</td>\n",
              "      <td>48.8250327, 2.3725162</td>\n",
              "      <td>75013</td>\n",
              "      <td>Paris/EugÃ¨ne OudinÃ©/51</td>\n",
              "      <td>operational</td>\n",
              "      <td>NaN</td>\n",
              "      <td>2</td>\n",
              "      <td>station</td>\n",
              "      <td>ok</td>\n",
              "      <td>nonexistent</td>\n",
              "      <td>2018</td>\n",
              "      <td>4</td>\n",
              "      <td>4</td>\n",
              "      <td>4</td>\n",
              "      <td>37</td>\n",
              "      <td>00</td>\n",
              "      <td>2018-4-4</td>\n",
              "    </tr>\n",
              "    <tr>\n",
              "      <th>4</th>\n",
              "      <td>6 avenue de la Porte de Champerret</td>\n",
              "      <td>3</td>\n",
              "      <td>3</td>\n",
              "      <td>0</td>\n",
              "      <td>0</td>\n",
              "      <td>0</td>\n",
              "      <td>nonexistent</td>\n",
              "      <td>Paris</td>\n",
              "      <td>NaN</td>\n",
              "      <td>paris-portedechamperret-6</td>\n",
              "      <td>PARKING</td>\n",
              "      <td>48.8862632, 2.2874511</td>\n",
              "      <td>75017</td>\n",
              "      <td>Paris/Porte de Champerret/6</td>\n",
              "      <td>operational</td>\n",
              "      <td>NaN</td>\n",
              "      <td>3</td>\n",
              "      <td>station</td>\n",
              "      <td>ok</td>\n",
              "      <td>nonexistent</td>\n",
              "      <td>2018</td>\n",
              "      <td>4</td>\n",
              "      <td>8</td>\n",
              "      <td>17</td>\n",
              "      <td>23</td>\n",
              "      <td>00</td>\n",
              "      <td>2018-4-8</td>\n",
              "    </tr>\n",
              "  </tbody>\n",
              "</table>\n",
              "</div>\n",
              "      <button class=\"colab-df-convert\" onclick=\"convertToInteractive('df-35324f42-5987-41be-8fdc-953098bdbd12')\"\n",
              "              title=\"Convert this dataframe to an interactive table.\"\n",
              "              style=\"display:none;\">\n",
              "        \n",
              "  <svg xmlns=\"http://www.w3.org/2000/svg\" height=\"24px\"viewBox=\"0 0 24 24\"\n",
              "       width=\"24px\">\n",
              "    <path d=\"M0 0h24v24H0V0z\" fill=\"none\"/>\n",
              "    <path d=\"M18.56 5.44l.94 2.06.94-2.06 2.06-.94-2.06-.94-.94-2.06-.94 2.06-2.06.94zm-11 1L8.5 8.5l.94-2.06 2.06-.94-2.06-.94L8.5 2.5l-.94 2.06-2.06.94zm10 10l.94 2.06.94-2.06 2.06-.94-2.06-.94-.94-2.06-.94 2.06-2.06.94z\"/><path d=\"M17.41 7.96l-1.37-1.37c-.4-.4-.92-.59-1.43-.59-.52 0-1.04.2-1.43.59L10.3 9.45l-7.72 7.72c-.78.78-.78 2.05 0 2.83L4 21.41c.39.39.9.59 1.41.59.51 0 1.02-.2 1.41-.59l7.78-7.78 2.81-2.81c.8-.78.8-2.07 0-2.86zM5.41 20L4 18.59l7.72-7.72 1.47 1.35L5.41 20z\"/>\n",
              "  </svg>\n",
              "      </button>\n",
              "      \n",
              "  <style>\n",
              "    .colab-df-container {\n",
              "      display:flex;\n",
              "      flex-wrap:wrap;\n",
              "      gap: 12px;\n",
              "    }\n",
              "\n",
              "    .colab-df-convert {\n",
              "      background-color: #E8F0FE;\n",
              "      border: none;\n",
              "      border-radius: 50%;\n",
              "      cursor: pointer;\n",
              "      display: none;\n",
              "      fill: #1967D2;\n",
              "      height: 32px;\n",
              "      padding: 0 0 0 0;\n",
              "      width: 32px;\n",
              "    }\n",
              "\n",
              "    .colab-df-convert:hover {\n",
              "      background-color: #E2EBFA;\n",
              "      box-shadow: 0px 1px 2px rgba(60, 64, 67, 0.3), 0px 1px 3px 1px rgba(60, 64, 67, 0.15);\n",
              "      fill: #174EA6;\n",
              "    }\n",
              "\n",
              "    [theme=dark] .colab-df-convert {\n",
              "      background-color: #3B4455;\n",
              "      fill: #D2E3FC;\n",
              "    }\n",
              "\n",
              "    [theme=dark] .colab-df-convert:hover {\n",
              "      background-color: #434B5C;\n",
              "      box-shadow: 0px 1px 3px 1px rgba(0, 0, 0, 0.15);\n",
              "      filter: drop-shadow(0px 1px 2px rgba(0, 0, 0, 0.3));\n",
              "      fill: #FFFFFF;\n",
              "    }\n",
              "  </style>\n",
              "\n",
              "      <script>\n",
              "        const buttonEl =\n",
              "          document.querySelector('#df-35324f42-5987-41be-8fdc-953098bdbd12 button.colab-df-convert');\n",
              "        buttonEl.style.display =\n",
              "          google.colab.kernel.accessAllowed ? 'block' : 'none';\n",
              "\n",
              "        async function convertToInteractive(key) {\n",
              "          const element = document.querySelector('#df-35324f42-5987-41be-8fdc-953098bdbd12');\n",
              "          const dataTable =\n",
              "            await google.colab.kernel.invokeFunction('convertToInteractive',\n",
              "                                                     [key], {});\n",
              "          if (!dataTable) return;\n",
              "\n",
              "          const docLinkHtml = 'Like what you see? Visit the ' +\n",
              "            '<a target=\"_blank\" href=https://colab.research.google.com/notebooks/data_table.ipynb>data table notebook</a>'\n",
              "            + ' to learn more about interactive tables.';\n",
              "          element.innerHTML = '';\n",
              "          dataTable['output_type'] = 'display_data';\n",
              "          await google.colab.output.renderOutput(dataTable, element);\n",
              "          const docLink = document.createElement('div');\n",
              "          docLink.innerHTML = docLinkHtml;\n",
              "          element.appendChild(docLink);\n",
              "        }\n",
              "      </script>\n",
              "    </div>\n",
              "  </div>\n",
              "  "
            ],
            "text/plain": [
              "                              Address  Cars  ...  sec      Date\n",
              "0                 2 Avenue de Suffren     0  ...   00  2018-4-8\n",
              "1           145 Rue Raymond Losserand     6  ...   00  2018-4-6\n",
              "2    2 Avenue John Fitzgerald Kennedy     3  ...   00  2018-4-3\n",
              "3              51 Rue EugÃ¨ne OudinÃ©     3  ...   00  2018-4-4\n",
              "4  6 avenue de la Porte de Champerret     3  ...   00  2018-4-8\n",
              "\n",
              "[5 rows x 27 columns]"
            ]
          },
          "metadata": {},
          "execution_count": 6
        }
      ]
    },
    {
      "cell_type": "code",
      "source": [
        "# Joing the time data into one row\n",
        "# Converting the hour column from integer to dtring\n",
        "#\n",
        "autolib_data['hour'] = autolib_data['hour'].astype(str)\n",
        "\n",
        "# Converting the minute column from minute to time\n",
        "#\n",
        "autolib_data['minute'] = autolib_data['minute'].astype(str)\n",
        "\n",
        "# Joining the minute and hour columns into a new column Time\n",
        "#\n",
        "autolib_data['Time'] = autolib_data[['hour', 'minute', 'sec']].agg(':'.join, axis = 1)\n"
      ],
      "metadata": {
        "id": "YsqW8XnDn4Fd"
      },
      "execution_count": 7,
      "outputs": []
    },
    {
      "cell_type": "code",
      "source": [
        "# Joining the date to time columns\n",
        "#\n",
        "autolib_data['datetime'] = autolib_data['Date'] + ' ' + autolib_data['Time'] \n",
        "autolib_data.head(1)"
      ],
      "metadata": {
        "colab": {
          "base_uri": "https://localhost:8080/",
          "height": 231
        },
        "id": "FbgEQlqOYFlc",
        "outputId": "4cf7929c-4a66-44fe-b219-3db3eb961cd2"
      },
      "execution_count": 8,
      "outputs": [
        {
          "output_type": "execute_result",
          "data": {
            "text/html": [
              "\n",
              "  <div id=\"df-961858b7-3cc7-4f69-a90c-17e5426da7e7\">\n",
              "    <div class=\"colab-df-container\">\n",
              "      <div>\n",
              "<style scoped>\n",
              "    .dataframe tbody tr th:only-of-type {\n",
              "        vertical-align: middle;\n",
              "    }\n",
              "\n",
              "    .dataframe tbody tr th {\n",
              "        vertical-align: top;\n",
              "    }\n",
              "\n",
              "    .dataframe thead th {\n",
              "        text-align: right;\n",
              "    }\n",
              "</style>\n",
              "<table border=\"1\" class=\"dataframe\">\n",
              "  <thead>\n",
              "    <tr style=\"text-align: right;\">\n",
              "      <th></th>\n",
              "      <th>Address</th>\n",
              "      <th>Cars</th>\n",
              "      <th>Bluecar counter</th>\n",
              "      <th>Utilib counter</th>\n",
              "      <th>Utilib 1.4 counter</th>\n",
              "      <th>Charge Slots</th>\n",
              "      <th>Charging Status</th>\n",
              "      <th>City</th>\n",
              "      <th>Displayed comment</th>\n",
              "      <th>ID</th>\n",
              "      <th>Kind</th>\n",
              "      <th>Geo point</th>\n",
              "      <th>Postal code</th>\n",
              "      <th>Public name</th>\n",
              "      <th>Rental status</th>\n",
              "      <th>Scheduled at</th>\n",
              "      <th>Slots</th>\n",
              "      <th>Station type</th>\n",
              "      <th>Status</th>\n",
              "      <th>Subscription status</th>\n",
              "      <th>year</th>\n",
              "      <th>month</th>\n",
              "      <th>day</th>\n",
              "      <th>hour</th>\n",
              "      <th>minute</th>\n",
              "      <th>sec</th>\n",
              "      <th>Date</th>\n",
              "      <th>Time</th>\n",
              "      <th>datetime</th>\n",
              "    </tr>\n",
              "  </thead>\n",
              "  <tbody>\n",
              "    <tr>\n",
              "      <th>0</th>\n",
              "      <td>2 Avenue de Suffren</td>\n",
              "      <td>0</td>\n",
              "      <td>0</td>\n",
              "      <td>0</td>\n",
              "      <td>0</td>\n",
              "      <td>0</td>\n",
              "      <td>nonexistent</td>\n",
              "      <td>Paris</td>\n",
              "      <td>NaN</td>\n",
              "      <td>paris-suffren-2</td>\n",
              "      <td>STATION</td>\n",
              "      <td>48.857, 2.2917</td>\n",
              "      <td>75015</td>\n",
              "      <td>Paris/Suffren/2</td>\n",
              "      <td>operational</td>\n",
              "      <td>NaN</td>\n",
              "      <td>2</td>\n",
              "      <td>station</td>\n",
              "      <td>ok</td>\n",
              "      <td>nonexistent</td>\n",
              "      <td>2018</td>\n",
              "      <td>4</td>\n",
              "      <td>8</td>\n",
              "      <td>11</td>\n",
              "      <td>43</td>\n",
              "      <td>00</td>\n",
              "      <td>2018-4-8</td>\n",
              "      <td>11:43:00</td>\n",
              "      <td>2018-4-8 11:43:00</td>\n",
              "    </tr>\n",
              "  </tbody>\n",
              "</table>\n",
              "</div>\n",
              "      <button class=\"colab-df-convert\" onclick=\"convertToInteractive('df-961858b7-3cc7-4f69-a90c-17e5426da7e7')\"\n",
              "              title=\"Convert this dataframe to an interactive table.\"\n",
              "              style=\"display:none;\">\n",
              "        \n",
              "  <svg xmlns=\"http://www.w3.org/2000/svg\" height=\"24px\"viewBox=\"0 0 24 24\"\n",
              "       width=\"24px\">\n",
              "    <path d=\"M0 0h24v24H0V0z\" fill=\"none\"/>\n",
              "    <path d=\"M18.56 5.44l.94 2.06.94-2.06 2.06-.94-2.06-.94-.94-2.06-.94 2.06-2.06.94zm-11 1L8.5 8.5l.94-2.06 2.06-.94-2.06-.94L8.5 2.5l-.94 2.06-2.06.94zm10 10l.94 2.06.94-2.06 2.06-.94-2.06-.94-.94-2.06-.94 2.06-2.06.94z\"/><path d=\"M17.41 7.96l-1.37-1.37c-.4-.4-.92-.59-1.43-.59-.52 0-1.04.2-1.43.59L10.3 9.45l-7.72 7.72c-.78.78-.78 2.05 0 2.83L4 21.41c.39.39.9.59 1.41.59.51 0 1.02-.2 1.41-.59l7.78-7.78 2.81-2.81c.8-.78.8-2.07 0-2.86zM5.41 20L4 18.59l7.72-7.72 1.47 1.35L5.41 20z\"/>\n",
              "  </svg>\n",
              "      </button>\n",
              "      \n",
              "  <style>\n",
              "    .colab-df-container {\n",
              "      display:flex;\n",
              "      flex-wrap:wrap;\n",
              "      gap: 12px;\n",
              "    }\n",
              "\n",
              "    .colab-df-convert {\n",
              "      background-color: #E8F0FE;\n",
              "      border: none;\n",
              "      border-radius: 50%;\n",
              "      cursor: pointer;\n",
              "      display: none;\n",
              "      fill: #1967D2;\n",
              "      height: 32px;\n",
              "      padding: 0 0 0 0;\n",
              "      width: 32px;\n",
              "    }\n",
              "\n",
              "    .colab-df-convert:hover {\n",
              "      background-color: #E2EBFA;\n",
              "      box-shadow: 0px 1px 2px rgba(60, 64, 67, 0.3), 0px 1px 3px 1px rgba(60, 64, 67, 0.15);\n",
              "      fill: #174EA6;\n",
              "    }\n",
              "\n",
              "    [theme=dark] .colab-df-convert {\n",
              "      background-color: #3B4455;\n",
              "      fill: #D2E3FC;\n",
              "    }\n",
              "\n",
              "    [theme=dark] .colab-df-convert:hover {\n",
              "      background-color: #434B5C;\n",
              "      box-shadow: 0px 1px 3px 1px rgba(0, 0, 0, 0.15);\n",
              "      filter: drop-shadow(0px 1px 2px rgba(0, 0, 0, 0.3));\n",
              "      fill: #FFFFFF;\n",
              "    }\n",
              "  </style>\n",
              "\n",
              "      <script>\n",
              "        const buttonEl =\n",
              "          document.querySelector('#df-961858b7-3cc7-4f69-a90c-17e5426da7e7 button.colab-df-convert');\n",
              "        buttonEl.style.display =\n",
              "          google.colab.kernel.accessAllowed ? 'block' : 'none';\n",
              "\n",
              "        async function convertToInteractive(key) {\n",
              "          const element = document.querySelector('#df-961858b7-3cc7-4f69-a90c-17e5426da7e7');\n",
              "          const dataTable =\n",
              "            await google.colab.kernel.invokeFunction('convertToInteractive',\n",
              "                                                     [key], {});\n",
              "          if (!dataTable) return;\n",
              "\n",
              "          const docLinkHtml = 'Like what you see? Visit the ' +\n",
              "            '<a target=\"_blank\" href=https://colab.research.google.com/notebooks/data_table.ipynb>data table notebook</a>'\n",
              "            + ' to learn more about interactive tables.';\n",
              "          element.innerHTML = '';\n",
              "          dataTable['output_type'] = 'display_data';\n",
              "          await google.colab.output.renderOutput(dataTable, element);\n",
              "          const docLink = document.createElement('div');\n",
              "          docLink.innerHTML = docLinkHtml;\n",
              "          element.appendChild(docLink);\n",
              "        }\n",
              "      </script>\n",
              "    </div>\n",
              "  </div>\n",
              "  "
            ],
            "text/plain": [
              "               Address  Cars  ...      Time           datetime\n",
              "0  2 Avenue de Suffren     0  ...  11:43:00  2018-4-8 11:43:00\n",
              "\n",
              "[1 rows x 29 columns]"
            ]
          },
          "metadata": {},
          "execution_count": 8
        }
      ]
    },
    {
      "cell_type": "markdown",
      "source": [
        "joining the date to the time column to form datetime column"
      ],
      "metadata": {
        "id": "-RA7n5PVZCrr"
      }
    },
    {
      "cell_type": "code",
      "source": [
        "# Converting time and date clumns to datetime format\n",
        "# Converting date to datetime data type\n",
        "#\n",
        "autolib_data['datetime'] = pd.to_datetime(autolib_data['datetime'])"
      ],
      "metadata": {
        "id": "8YFOU6N8rm3N"
      },
      "execution_count": 9,
      "outputs": []
    },
    {
      "cell_type": "markdown",
      "source": [
        "Datetime column is changed from object to datetime format"
      ],
      "metadata": {
        "id": "FcgFv969_u2R"
      }
    },
    {
      "cell_type": "code",
      "source": [
        "# Dropping unwanted columns\n",
        "# Dropping minute\n",
        "#\n",
        "autolib_data.drop('minute', inplace = True, axis = 'columns')\n",
        "\n",
        "# Dropping sec\n",
        "#\n",
        "autolib_data.drop('sec', inplace = True, axis = 'columns')\n",
        "\n",
        "# Dropping date\n",
        "#\n",
        "autolib_data.drop('Date', inplace = True, axis = 'columns')\n",
        "\n",
        "# dropping time\n",
        "#\n",
        "autolib_data.drop('Time', inplace = True, axis = 'columns')\n",
        "\n",
        "# Dropping cars, since similar to bluecar counter\n",
        "#\n",
        "autolib_data.drop('Cars', inplace = True, axis = 'columns')\n",
        "\n",
        "# Previewing the data\n",
        "#\n",
        "autolib_data.head()"
      ],
      "metadata": {
        "colab": {
          "base_uri": "https://localhost:8080/",
          "height": 513
        },
        "id": "y6r7uyt_8Bft",
        "outputId": "ea78f4a2-2d8a-4bf5-8552-420dc2be701e"
      },
      "execution_count": 10,
      "outputs": [
        {
          "output_type": "execute_result",
          "data": {
            "text/html": [
              "\n",
              "  <div id=\"df-33185a51-f404-4517-8ce3-649a33dbd162\">\n",
              "    <div class=\"colab-df-container\">\n",
              "      <div>\n",
              "<style scoped>\n",
              "    .dataframe tbody tr th:only-of-type {\n",
              "        vertical-align: middle;\n",
              "    }\n",
              "\n",
              "    .dataframe tbody tr th {\n",
              "        vertical-align: top;\n",
              "    }\n",
              "\n",
              "    .dataframe thead th {\n",
              "        text-align: right;\n",
              "    }\n",
              "</style>\n",
              "<table border=\"1\" class=\"dataframe\">\n",
              "  <thead>\n",
              "    <tr style=\"text-align: right;\">\n",
              "      <th></th>\n",
              "      <th>Address</th>\n",
              "      <th>Bluecar counter</th>\n",
              "      <th>Utilib counter</th>\n",
              "      <th>Utilib 1.4 counter</th>\n",
              "      <th>Charge Slots</th>\n",
              "      <th>Charging Status</th>\n",
              "      <th>City</th>\n",
              "      <th>Displayed comment</th>\n",
              "      <th>ID</th>\n",
              "      <th>Kind</th>\n",
              "      <th>Geo point</th>\n",
              "      <th>Postal code</th>\n",
              "      <th>Public name</th>\n",
              "      <th>Rental status</th>\n",
              "      <th>Scheduled at</th>\n",
              "      <th>Slots</th>\n",
              "      <th>Station type</th>\n",
              "      <th>Status</th>\n",
              "      <th>Subscription status</th>\n",
              "      <th>year</th>\n",
              "      <th>month</th>\n",
              "      <th>day</th>\n",
              "      <th>hour</th>\n",
              "      <th>datetime</th>\n",
              "    </tr>\n",
              "  </thead>\n",
              "  <tbody>\n",
              "    <tr>\n",
              "      <th>0</th>\n",
              "      <td>2 Avenue de Suffren</td>\n",
              "      <td>0</td>\n",
              "      <td>0</td>\n",
              "      <td>0</td>\n",
              "      <td>0</td>\n",
              "      <td>nonexistent</td>\n",
              "      <td>Paris</td>\n",
              "      <td>NaN</td>\n",
              "      <td>paris-suffren-2</td>\n",
              "      <td>STATION</td>\n",
              "      <td>48.857, 2.2917</td>\n",
              "      <td>75015</td>\n",
              "      <td>Paris/Suffren/2</td>\n",
              "      <td>operational</td>\n",
              "      <td>NaN</td>\n",
              "      <td>2</td>\n",
              "      <td>station</td>\n",
              "      <td>ok</td>\n",
              "      <td>nonexistent</td>\n",
              "      <td>2018</td>\n",
              "      <td>4</td>\n",
              "      <td>8</td>\n",
              "      <td>11</td>\n",
              "      <td>2018-04-08 11:43:00</td>\n",
              "    </tr>\n",
              "    <tr>\n",
              "      <th>1</th>\n",
              "      <td>145 Rue Raymond Losserand</td>\n",
              "      <td>6</td>\n",
              "      <td>0</td>\n",
              "      <td>0</td>\n",
              "      <td>0</td>\n",
              "      <td>operational</td>\n",
              "      <td>Paris</td>\n",
              "      <td>NaN</td>\n",
              "      <td>paris-raymondlosserand-145</td>\n",
              "      <td>STATION</td>\n",
              "      <td>48.83126, 2.313088</td>\n",
              "      <td>75014</td>\n",
              "      <td>Paris/Raymond Losserand/145</td>\n",
              "      <td>operational</td>\n",
              "      <td>NaN</td>\n",
              "      <td>0</td>\n",
              "      <td>station</td>\n",
              "      <td>ok</td>\n",
              "      <td>nonexistent</td>\n",
              "      <td>2018</td>\n",
              "      <td>4</td>\n",
              "      <td>6</td>\n",
              "      <td>7</td>\n",
              "      <td>2018-04-06 07:24:00</td>\n",
              "    </tr>\n",
              "    <tr>\n",
              "      <th>2</th>\n",
              "      <td>2 Avenue John Fitzgerald Kennedy</td>\n",
              "      <td>3</td>\n",
              "      <td>0</td>\n",
              "      <td>2</td>\n",
              "      <td>0</td>\n",
              "      <td>operational</td>\n",
              "      <td>Le Bourget</td>\n",
              "      <td>NaN</td>\n",
              "      <td>lebourget-johnfitzgeraldkennedy-2</td>\n",
              "      <td>STATION</td>\n",
              "      <td>48.938103, 2.4286035</td>\n",
              "      <td>93350</td>\n",
              "      <td>Le Bourget/John Fitzgerald Kennedy/2</td>\n",
              "      <td>operational</td>\n",
              "      <td>NaN</td>\n",
              "      <td>1</td>\n",
              "      <td>station</td>\n",
              "      <td>ok</td>\n",
              "      <td>nonexistent</td>\n",
              "      <td>2018</td>\n",
              "      <td>4</td>\n",
              "      <td>3</td>\n",
              "      <td>20</td>\n",
              "      <td>2018-04-03 20:14:00</td>\n",
              "    </tr>\n",
              "    <tr>\n",
              "      <th>3</th>\n",
              "      <td>51 Rue EugÃ¨ne OudinÃ©</td>\n",
              "      <td>3</td>\n",
              "      <td>1</td>\n",
              "      <td>0</td>\n",
              "      <td>1</td>\n",
              "      <td>operational</td>\n",
              "      <td>Paris</td>\n",
              "      <td>NaN</td>\n",
              "      <td>paris-eugeneoudine-51</td>\n",
              "      <td>STATION</td>\n",
              "      <td>48.8250327, 2.3725162</td>\n",
              "      <td>75013</td>\n",
              "      <td>Paris/EugÃ¨ne OudinÃ©/51</td>\n",
              "      <td>operational</td>\n",
              "      <td>NaN</td>\n",
              "      <td>2</td>\n",
              "      <td>station</td>\n",
              "      <td>ok</td>\n",
              "      <td>nonexistent</td>\n",
              "      <td>2018</td>\n",
              "      <td>4</td>\n",
              "      <td>4</td>\n",
              "      <td>4</td>\n",
              "      <td>2018-04-04 04:37:00</td>\n",
              "    </tr>\n",
              "    <tr>\n",
              "      <th>4</th>\n",
              "      <td>6 avenue de la Porte de Champerret</td>\n",
              "      <td>3</td>\n",
              "      <td>0</td>\n",
              "      <td>0</td>\n",
              "      <td>0</td>\n",
              "      <td>nonexistent</td>\n",
              "      <td>Paris</td>\n",
              "      <td>NaN</td>\n",
              "      <td>paris-portedechamperret-6</td>\n",
              "      <td>PARKING</td>\n",
              "      <td>48.8862632, 2.2874511</td>\n",
              "      <td>75017</td>\n",
              "      <td>Paris/Porte de Champerret/6</td>\n",
              "      <td>operational</td>\n",
              "      <td>NaN</td>\n",
              "      <td>3</td>\n",
              "      <td>station</td>\n",
              "      <td>ok</td>\n",
              "      <td>nonexistent</td>\n",
              "      <td>2018</td>\n",
              "      <td>4</td>\n",
              "      <td>8</td>\n",
              "      <td>17</td>\n",
              "      <td>2018-04-08 17:23:00</td>\n",
              "    </tr>\n",
              "  </tbody>\n",
              "</table>\n",
              "</div>\n",
              "      <button class=\"colab-df-convert\" onclick=\"convertToInteractive('df-33185a51-f404-4517-8ce3-649a33dbd162')\"\n",
              "              title=\"Convert this dataframe to an interactive table.\"\n",
              "              style=\"display:none;\">\n",
              "        \n",
              "  <svg xmlns=\"http://www.w3.org/2000/svg\" height=\"24px\"viewBox=\"0 0 24 24\"\n",
              "       width=\"24px\">\n",
              "    <path d=\"M0 0h24v24H0V0z\" fill=\"none\"/>\n",
              "    <path d=\"M18.56 5.44l.94 2.06.94-2.06 2.06-.94-2.06-.94-.94-2.06-.94 2.06-2.06.94zm-11 1L8.5 8.5l.94-2.06 2.06-.94-2.06-.94L8.5 2.5l-.94 2.06-2.06.94zm10 10l.94 2.06.94-2.06 2.06-.94-2.06-.94-.94-2.06-.94 2.06-2.06.94z\"/><path d=\"M17.41 7.96l-1.37-1.37c-.4-.4-.92-.59-1.43-.59-.52 0-1.04.2-1.43.59L10.3 9.45l-7.72 7.72c-.78.78-.78 2.05 0 2.83L4 21.41c.39.39.9.59 1.41.59.51 0 1.02-.2 1.41-.59l7.78-7.78 2.81-2.81c.8-.78.8-2.07 0-2.86zM5.41 20L4 18.59l7.72-7.72 1.47 1.35L5.41 20z\"/>\n",
              "  </svg>\n",
              "      </button>\n",
              "      \n",
              "  <style>\n",
              "    .colab-df-container {\n",
              "      display:flex;\n",
              "      flex-wrap:wrap;\n",
              "      gap: 12px;\n",
              "    }\n",
              "\n",
              "    .colab-df-convert {\n",
              "      background-color: #E8F0FE;\n",
              "      border: none;\n",
              "      border-radius: 50%;\n",
              "      cursor: pointer;\n",
              "      display: none;\n",
              "      fill: #1967D2;\n",
              "      height: 32px;\n",
              "      padding: 0 0 0 0;\n",
              "      width: 32px;\n",
              "    }\n",
              "\n",
              "    .colab-df-convert:hover {\n",
              "      background-color: #E2EBFA;\n",
              "      box-shadow: 0px 1px 2px rgba(60, 64, 67, 0.3), 0px 1px 3px 1px rgba(60, 64, 67, 0.15);\n",
              "      fill: #174EA6;\n",
              "    }\n",
              "\n",
              "    [theme=dark] .colab-df-convert {\n",
              "      background-color: #3B4455;\n",
              "      fill: #D2E3FC;\n",
              "    }\n",
              "\n",
              "    [theme=dark] .colab-df-convert:hover {\n",
              "      background-color: #434B5C;\n",
              "      box-shadow: 0px 1px 3px 1px rgba(0, 0, 0, 0.15);\n",
              "      filter: drop-shadow(0px 1px 2px rgba(0, 0, 0, 0.3));\n",
              "      fill: #FFFFFF;\n",
              "    }\n",
              "  </style>\n",
              "\n",
              "      <script>\n",
              "        const buttonEl =\n",
              "          document.querySelector('#df-33185a51-f404-4517-8ce3-649a33dbd162 button.colab-df-convert');\n",
              "        buttonEl.style.display =\n",
              "          google.colab.kernel.accessAllowed ? 'block' : 'none';\n",
              "\n",
              "        async function convertToInteractive(key) {\n",
              "          const element = document.querySelector('#df-33185a51-f404-4517-8ce3-649a33dbd162');\n",
              "          const dataTable =\n",
              "            await google.colab.kernel.invokeFunction('convertToInteractive',\n",
              "                                                     [key], {});\n",
              "          if (!dataTable) return;\n",
              "\n",
              "          const docLinkHtml = 'Like what you see? Visit the ' +\n",
              "            '<a target=\"_blank\" href=https://colab.research.google.com/notebooks/data_table.ipynb>data table notebook</a>'\n",
              "            + ' to learn more about interactive tables.';\n",
              "          element.innerHTML = '';\n",
              "          dataTable['output_type'] = 'display_data';\n",
              "          await google.colab.output.renderOutput(dataTable, element);\n",
              "          const docLink = document.createElement('div');\n",
              "          docLink.innerHTML = docLinkHtml;\n",
              "          element.appendChild(docLink);\n",
              "        }\n",
              "      </script>\n",
              "    </div>\n",
              "  </div>\n",
              "  "
            ],
            "text/plain": [
              "                              Address  Bluecar counter  ...  hour            datetime\n",
              "0                 2 Avenue de Suffren                0  ...    11 2018-04-08 11:43:00\n",
              "1           145 Rue Raymond Losserand                6  ...     7 2018-04-06 07:24:00\n",
              "2    2 Avenue John Fitzgerald Kennedy                3  ...    20 2018-04-03 20:14:00\n",
              "3              51 Rue EugÃ¨ne OudinÃ©                3  ...     4 2018-04-04 04:37:00\n",
              "4  6 avenue de la Porte de Champerret                3  ...    17 2018-04-08 17:23:00\n",
              "\n",
              "[5 rows x 24 columns]"
            ]
          },
          "metadata": {},
          "execution_count": 10
        }
      ]
    },
    {
      "cell_type": "markdown",
      "source": [
        "- The sec and min columns are dropped since thier use becomes redudant once merged in the HH:MM:SS format. \n",
        "- The cars column is dropped since it is similar to theblue car counter column. \n",
        "- The hour is maintained since it is needed for subsequent analysis"
      ],
      "metadata": {
        "id": "UIHwbZZMSlnI"
      }
    },
    {
      "cell_type": "markdown",
      "source": [
        "### 1.4.2) <font color=\"green\">Accuracy\n",
        "\n",
        "</font>"
      ],
      "metadata": {
        "id": "x5LQnIAu-tjs"
      }
    },
    {
      "cell_type": "markdown",
      "source": [
        "Investigating columns for errors"
      ],
      "metadata": {
        "id": "BYXWlpLlA4v0"
      }
    },
    {
      "cell_type": "code",
      "source": [
        "# querying column information\n",
        "#\n",
        "autolib_data.columns"
      ],
      "metadata": {
        "colab": {
          "base_uri": "https://localhost:8080/"
        },
        "id": "ofdD1_cJ-seS",
        "outputId": "fe51b113-c455-4ef2-c8f1-3f0225db15c2"
      },
      "execution_count": 11,
      "outputs": [
        {
          "output_type": "execute_result",
          "data": {
            "text/plain": [
              "Index(['Address', 'Bluecar counter', 'Utilib counter', 'Utilib 1.4 counter',\n",
              "       'Charge Slots', 'Charging Status', 'City', 'Displayed comment', 'ID',\n",
              "       'Kind', 'Geo point', 'Postal code', 'Public name', 'Rental status',\n",
              "       'Scheduled at', 'Slots', 'Station type', 'Status',\n",
              "       'Subscription status', 'year', 'month', 'day', 'hour', 'datetime'],\n",
              "      dtype='object')"
            ]
          },
          "metadata": {},
          "execution_count": 11
        }
      ]
    },
    {
      "cell_type": "markdown",
      "source": [
        "All columns seem accurate and have no wide spaces"
      ],
      "metadata": {
        "id": "R2hDSSa-_lum"
      }
    },
    {
      "cell_type": "markdown",
      "source": [
        "### 1.4.3) <font color=\"green\">Completeness</font>"
      ],
      "metadata": {
        "id": "PT8s_8ttAihz"
      }
    },
    {
      "cell_type": "markdown",
      "source": [
        "Investigating null values in the autolib dataset"
      ],
      "metadata": {
        "id": "VdIdNobcAwDF"
      }
    },
    {
      "cell_type": "code",
      "source": [
        "# Ascertain null values per column\n",
        "# Find null values in boolean\n",
        "#\n",
        "autolib_data.isnull()\n",
        "\n",
        "# Confirm if there are any null values in bolean\n",
        "#\n",
        "autolib_data.isnull().any()\n",
        "# Find the total number of null values in dataset\n",
        "#\n",
        "autolib_data.isnull().sum().sum()\n",
        "\n",
        "# Overview of null values per column\n",
        "#\n",
        "autolib_data.isnull().describe()"
      ],
      "metadata": {
        "colab": {
          "base_uri": "https://localhost:8080/",
          "height": 273
        },
        "id": "2ktHU_j48Bcs",
        "outputId": "061bc851-54c4-4a1f-97a5-e8874578d9de"
      },
      "execution_count": 12,
      "outputs": [
        {
          "output_type": "execute_result",
          "data": {
            "text/html": [
              "\n",
              "  <div id=\"df-62e5bda5-721d-4395-9f0a-df18d63753ef\">\n",
              "    <div class=\"colab-df-container\">\n",
              "      <div>\n",
              "<style scoped>\n",
              "    .dataframe tbody tr th:only-of-type {\n",
              "        vertical-align: middle;\n",
              "    }\n",
              "\n",
              "    .dataframe tbody tr th {\n",
              "        vertical-align: top;\n",
              "    }\n",
              "\n",
              "    .dataframe thead th {\n",
              "        text-align: right;\n",
              "    }\n",
              "</style>\n",
              "<table border=\"1\" class=\"dataframe\">\n",
              "  <thead>\n",
              "    <tr style=\"text-align: right;\">\n",
              "      <th></th>\n",
              "      <th>Address</th>\n",
              "      <th>Bluecar counter</th>\n",
              "      <th>Utilib counter</th>\n",
              "      <th>Utilib 1.4 counter</th>\n",
              "      <th>Charge Slots</th>\n",
              "      <th>Charging Status</th>\n",
              "      <th>City</th>\n",
              "      <th>Displayed comment</th>\n",
              "      <th>ID</th>\n",
              "      <th>Kind</th>\n",
              "      <th>Geo point</th>\n",
              "      <th>Postal code</th>\n",
              "      <th>Public name</th>\n",
              "      <th>Rental status</th>\n",
              "      <th>Scheduled at</th>\n",
              "      <th>Slots</th>\n",
              "      <th>Station type</th>\n",
              "      <th>Status</th>\n",
              "      <th>Subscription status</th>\n",
              "      <th>year</th>\n",
              "      <th>month</th>\n",
              "      <th>day</th>\n",
              "      <th>hour</th>\n",
              "      <th>datetime</th>\n",
              "    </tr>\n",
              "  </thead>\n",
              "  <tbody>\n",
              "    <tr>\n",
              "      <th>count</th>\n",
              "      <td>5000</td>\n",
              "      <td>5000</td>\n",
              "      <td>5000</td>\n",
              "      <td>5000</td>\n",
              "      <td>5000</td>\n",
              "      <td>5000</td>\n",
              "      <td>5000</td>\n",
              "      <td>5000</td>\n",
              "      <td>5000</td>\n",
              "      <td>5000</td>\n",
              "      <td>5000</td>\n",
              "      <td>5000</td>\n",
              "      <td>5000</td>\n",
              "      <td>5000</td>\n",
              "      <td>5000</td>\n",
              "      <td>5000</td>\n",
              "      <td>5000</td>\n",
              "      <td>5000</td>\n",
              "      <td>5000</td>\n",
              "      <td>5000</td>\n",
              "      <td>5000</td>\n",
              "      <td>5000</td>\n",
              "      <td>5000</td>\n",
              "      <td>5000</td>\n",
              "    </tr>\n",
              "    <tr>\n",
              "      <th>unique</th>\n",
              "      <td>1</td>\n",
              "      <td>1</td>\n",
              "      <td>1</td>\n",
              "      <td>1</td>\n",
              "      <td>1</td>\n",
              "      <td>1</td>\n",
              "      <td>1</td>\n",
              "      <td>2</td>\n",
              "      <td>1</td>\n",
              "      <td>1</td>\n",
              "      <td>1</td>\n",
              "      <td>1</td>\n",
              "      <td>1</td>\n",
              "      <td>1</td>\n",
              "      <td>2</td>\n",
              "      <td>1</td>\n",
              "      <td>1</td>\n",
              "      <td>1</td>\n",
              "      <td>1</td>\n",
              "      <td>1</td>\n",
              "      <td>1</td>\n",
              "      <td>1</td>\n",
              "      <td>1</td>\n",
              "      <td>1</td>\n",
              "    </tr>\n",
              "    <tr>\n",
              "      <th>top</th>\n",
              "      <td>False</td>\n",
              "      <td>False</td>\n",
              "      <td>False</td>\n",
              "      <td>False</td>\n",
              "      <td>False</td>\n",
              "      <td>False</td>\n",
              "      <td>False</td>\n",
              "      <td>True</td>\n",
              "      <td>False</td>\n",
              "      <td>False</td>\n",
              "      <td>False</td>\n",
              "      <td>False</td>\n",
              "      <td>False</td>\n",
              "      <td>False</td>\n",
              "      <td>True</td>\n",
              "      <td>False</td>\n",
              "      <td>False</td>\n",
              "      <td>False</td>\n",
              "      <td>False</td>\n",
              "      <td>False</td>\n",
              "      <td>False</td>\n",
              "      <td>False</td>\n",
              "      <td>False</td>\n",
              "      <td>False</td>\n",
              "    </tr>\n",
              "    <tr>\n",
              "      <th>freq</th>\n",
              "      <td>5000</td>\n",
              "      <td>5000</td>\n",
              "      <td>5000</td>\n",
              "      <td>5000</td>\n",
              "      <td>5000</td>\n",
              "      <td>5000</td>\n",
              "      <td>5000</td>\n",
              "      <td>4889</td>\n",
              "      <td>5000</td>\n",
              "      <td>5000</td>\n",
              "      <td>5000</td>\n",
              "      <td>5000</td>\n",
              "      <td>5000</td>\n",
              "      <td>5000</td>\n",
              "      <td>4953</td>\n",
              "      <td>5000</td>\n",
              "      <td>5000</td>\n",
              "      <td>5000</td>\n",
              "      <td>5000</td>\n",
              "      <td>5000</td>\n",
              "      <td>5000</td>\n",
              "      <td>5000</td>\n",
              "      <td>5000</td>\n",
              "      <td>5000</td>\n",
              "    </tr>\n",
              "  </tbody>\n",
              "</table>\n",
              "</div>\n",
              "      <button class=\"colab-df-convert\" onclick=\"convertToInteractive('df-62e5bda5-721d-4395-9f0a-df18d63753ef')\"\n",
              "              title=\"Convert this dataframe to an interactive table.\"\n",
              "              style=\"display:none;\">\n",
              "        \n",
              "  <svg xmlns=\"http://www.w3.org/2000/svg\" height=\"24px\"viewBox=\"0 0 24 24\"\n",
              "       width=\"24px\">\n",
              "    <path d=\"M0 0h24v24H0V0z\" fill=\"none\"/>\n",
              "    <path d=\"M18.56 5.44l.94 2.06.94-2.06 2.06-.94-2.06-.94-.94-2.06-.94 2.06-2.06.94zm-11 1L8.5 8.5l.94-2.06 2.06-.94-2.06-.94L8.5 2.5l-.94 2.06-2.06.94zm10 10l.94 2.06.94-2.06 2.06-.94-2.06-.94-.94-2.06-.94 2.06-2.06.94z\"/><path d=\"M17.41 7.96l-1.37-1.37c-.4-.4-.92-.59-1.43-.59-.52 0-1.04.2-1.43.59L10.3 9.45l-7.72 7.72c-.78.78-.78 2.05 0 2.83L4 21.41c.39.39.9.59 1.41.59.51 0 1.02-.2 1.41-.59l7.78-7.78 2.81-2.81c.8-.78.8-2.07 0-2.86zM5.41 20L4 18.59l7.72-7.72 1.47 1.35L5.41 20z\"/>\n",
              "  </svg>\n",
              "      </button>\n",
              "      \n",
              "  <style>\n",
              "    .colab-df-container {\n",
              "      display:flex;\n",
              "      flex-wrap:wrap;\n",
              "      gap: 12px;\n",
              "    }\n",
              "\n",
              "    .colab-df-convert {\n",
              "      background-color: #E8F0FE;\n",
              "      border: none;\n",
              "      border-radius: 50%;\n",
              "      cursor: pointer;\n",
              "      display: none;\n",
              "      fill: #1967D2;\n",
              "      height: 32px;\n",
              "      padding: 0 0 0 0;\n",
              "      width: 32px;\n",
              "    }\n",
              "\n",
              "    .colab-df-convert:hover {\n",
              "      background-color: #E2EBFA;\n",
              "      box-shadow: 0px 1px 2px rgba(60, 64, 67, 0.3), 0px 1px 3px 1px rgba(60, 64, 67, 0.15);\n",
              "      fill: #174EA6;\n",
              "    }\n",
              "\n",
              "    [theme=dark] .colab-df-convert {\n",
              "      background-color: #3B4455;\n",
              "      fill: #D2E3FC;\n",
              "    }\n",
              "\n",
              "    [theme=dark] .colab-df-convert:hover {\n",
              "      background-color: #434B5C;\n",
              "      box-shadow: 0px 1px 3px 1px rgba(0, 0, 0, 0.15);\n",
              "      filter: drop-shadow(0px 1px 2px rgba(0, 0, 0, 0.3));\n",
              "      fill: #FFFFFF;\n",
              "    }\n",
              "  </style>\n",
              "\n",
              "      <script>\n",
              "        const buttonEl =\n",
              "          document.querySelector('#df-62e5bda5-721d-4395-9f0a-df18d63753ef button.colab-df-convert');\n",
              "        buttonEl.style.display =\n",
              "          google.colab.kernel.accessAllowed ? 'block' : 'none';\n",
              "\n",
              "        async function convertToInteractive(key) {\n",
              "          const element = document.querySelector('#df-62e5bda5-721d-4395-9f0a-df18d63753ef');\n",
              "          const dataTable =\n",
              "            await google.colab.kernel.invokeFunction('convertToInteractive',\n",
              "                                                     [key], {});\n",
              "          if (!dataTable) return;\n",
              "\n",
              "          const docLinkHtml = 'Like what you see? Visit the ' +\n",
              "            '<a target=\"_blank\" href=https://colab.research.google.com/notebooks/data_table.ipynb>data table notebook</a>'\n",
              "            + ' to learn more about interactive tables.';\n",
              "          element.innerHTML = '';\n",
              "          dataTable['output_type'] = 'display_data';\n",
              "          await google.colab.output.renderOutput(dataTable, element);\n",
              "          const docLink = document.createElement('div');\n",
              "          docLink.innerHTML = docLinkHtml;\n",
              "          element.appendChild(docLink);\n",
              "        }\n",
              "      </script>\n",
              "    </div>\n",
              "  </div>\n",
              "  "
            ],
            "text/plain": [
              "       Address Bluecar counter Utilib counter  ...    day   hour datetime\n",
              "count     5000            5000           5000  ...   5000   5000     5000\n",
              "unique       1               1              1  ...      1      1        1\n",
              "top      False           False          False  ...  False  False    False\n",
              "freq      5000            5000           5000  ...   5000   5000     5000\n",
              "\n",
              "[4 rows x 24 columns]"
            ]
          },
          "metadata": {},
          "execution_count": 12
        }
      ]
    },
    {
      "cell_type": "code",
      "source": [
        "# Determine the percentages of null values per column\n",
        "#\n",
        "((autolib_data.isnull() | autolib_data.isna()).sum() / autolib_data.index.size).round(3)"
      ],
      "metadata": {
        "colab": {
          "base_uri": "https://localhost:8080/"
        },
        "id": "Zv36IjjsN1xY",
        "outputId": "5b6ca8f9-dada-473f-d166-f480d1093b7f"
      },
      "execution_count": 13,
      "outputs": [
        {
          "output_type": "execute_result",
          "data": {
            "text/plain": [
              "Address                0.000\n",
              "Bluecar counter        0.000\n",
              "Utilib counter         0.000\n",
              "Utilib 1.4 counter     0.000\n",
              "Charge Slots           0.000\n",
              "Charging Status        0.000\n",
              "City                   0.000\n",
              "Displayed comment      0.978\n",
              "ID                     0.000\n",
              "Kind                   0.000\n",
              "Geo point              0.000\n",
              "Postal code            0.000\n",
              "Public name            0.000\n",
              "Rental status          0.000\n",
              "Scheduled at           0.991\n",
              "Slots                  0.000\n",
              "Station type           0.000\n",
              "Status                 0.000\n",
              "Subscription status    0.000\n",
              "year                   0.000\n",
              "month                  0.000\n",
              "day                    0.000\n",
              "hour                   0.000\n",
              "datetime               0.000\n",
              "dtype: float64"
            ]
          },
          "metadata": {},
          "execution_count": 13
        }
      ]
    },
    {
      "cell_type": "markdown",
      "source": [
        "There are two columns with missing values; \n",
        "- Displayed comment\n",
        "- Scheduled at  \n",
        "\n",
        "Displayed comment and Scheduled at columns had missing values over 95%. This will be previewed and a decision made whether to drop or maintain"
      ],
      "metadata": {
        "id": "vF18NFu2PxgV"
      }
    },
    {
      "cell_type": "code",
      "source": [
        "# preview comments in the display comment column\n",
        "#\n",
        "autolib_data['Displayed comment'].describe()\n"
      ],
      "metadata": {
        "colab": {
          "base_uri": "https://localhost:8080/"
        },
        "id": "WE-yEVUPCVkZ",
        "outputId": "5013571f-594c-4af3-d241-0c6ef8e9955f"
      },
      "execution_count": 14,
      "outputs": [
        {
          "output_type": "execute_result",
          "data": {
            "text/plain": [
              "count                                                111\n",
              "unique                                                25\n",
              "top       Station en parking (niv -2), accÃ¨s 4 av. Foch\n",
              "freq                                                   8\n",
              "Name: Displayed comment, dtype: object"
            ]
          },
          "metadata": {},
          "execution_count": 14
        }
      ]
    },
    {
      "cell_type": "code",
      "source": [
        "# Dropping the display comment section\n",
        "#\n",
        "autolib_data.drop('Displayed comment', inplace = True, axis = 'columns')"
      ],
      "metadata": {
        "id": "RxRb79QoPRKw"
      },
      "execution_count": 15,
      "outputs": []
    },
    {
      "cell_type": "markdown",
      "source": [
        "The column is dropped since the data in it is in french can't be understood, and has no significance to the analysis"
      ],
      "metadata": {
        "id": "BWlSo5AtPB_6"
      }
    },
    {
      "cell_type": "code",
      "source": [
        "# previewing  comments in the scheduled at column\n",
        "#\n",
        "autolib_data['Scheduled at'].describe()"
      ],
      "metadata": {
        "colab": {
          "base_uri": "https://localhost:8080/"
        },
        "id": "UodlD-65Psh0",
        "outputId": "9bbb293e-745e-404c-a222-9e2d5ca5b9fb"
      },
      "execution_count": 16,
      "outputs": [
        {
          "output_type": "execute_result",
          "data": {
            "text/plain": [
              "count                      47\n",
              "unique                      8\n",
              "top       2016-07-27T15:32:21\n",
              "freq                       10\n",
              "Name: Scheduled at, dtype: object"
            ]
          },
          "metadata": {},
          "execution_count": 16
        }
      ]
    },
    {
      "cell_type": "markdown",
      "source": [
        "Data deals with schedules of the various electric cars. this column will be maintained since this data may be crucial during analysis"
      ],
      "metadata": {
        "id": "BZAk7FJ6QWRe"
      }
    },
    {
      "cell_type": "markdown",
      "source": [
        "1.4.4) <font color=\"green\">Duplicates</font>"
      ],
      "metadata": {
        "id": "9CWr5eEZQxEI"
      }
    },
    {
      "cell_type": "markdown",
      "source": [
        "Checking for duplicates"
      ],
      "metadata": {
        "id": "Kavjj79PRFG9"
      }
    },
    {
      "cell_type": "code",
      "source": [
        "# Checking for duplicates\n",
        "#\n",
        "autolib_data.duplicated().axis = 1"
      ],
      "metadata": {
        "id": "tVG1r7EWPsea"
      },
      "execution_count": 17,
      "outputs": []
    },
    {
      "cell_type": "markdown",
      "source": [
        "No duplicates in dataframe"
      ],
      "metadata": {
        "id": "Y6GLmKCfTFUb"
      }
    },
    {
      "cell_type": "markdown",
      "source": [
        "### 1.4.4) <font color=\"green\">Uniformity</font>"
      ],
      "metadata": {
        "id": "faESfqH-TZ0V"
      }
    },
    {
      "cell_type": "markdown",
      "source": [
        "Check column info, ordering the data appropiately, and introducing new data to improve the visualization of data"
      ],
      "metadata": {
        "id": "XVrh2F_5TkT-"
      }
    },
    {
      "cell_type": "code",
      "source": [
        "# Sorting data by date and station ID\n",
        "#\n",
        "autolib_df = autolib_data.sort_values(['ID', 'datetime'])\n",
        "\n",
        "# Resetting the index of the newlly orderd data frame\n",
        "#\n",
        "autolib_df=autolib_df.reset_index()\n",
        "\n",
        "# previewing dataset\n",
        "#\n",
        "autolib_df.head(2)"
      ],
      "metadata": {
        "colab": {
          "base_uri": "https://localhost:8080/",
          "height": 280
        },
        "id": "ArolGmOJaLfX",
        "outputId": "18d4cad9-c479-4a90-adc5-91bb3f946de8"
      },
      "execution_count": 18,
      "outputs": [
        {
          "output_type": "execute_result",
          "data": {
            "text/html": [
              "\n",
              "  <div id=\"df-92c3ed98-7799-4402-9229-afd21395c92d\">\n",
              "    <div class=\"colab-df-container\">\n",
              "      <div>\n",
              "<style scoped>\n",
              "    .dataframe tbody tr th:only-of-type {\n",
              "        vertical-align: middle;\n",
              "    }\n",
              "\n",
              "    .dataframe tbody tr th {\n",
              "        vertical-align: top;\n",
              "    }\n",
              "\n",
              "    .dataframe thead th {\n",
              "        text-align: right;\n",
              "    }\n",
              "</style>\n",
              "<table border=\"1\" class=\"dataframe\">\n",
              "  <thead>\n",
              "    <tr style=\"text-align: right;\">\n",
              "      <th></th>\n",
              "      <th>index</th>\n",
              "      <th>Address</th>\n",
              "      <th>Bluecar counter</th>\n",
              "      <th>Utilib counter</th>\n",
              "      <th>Utilib 1.4 counter</th>\n",
              "      <th>Charge Slots</th>\n",
              "      <th>Charging Status</th>\n",
              "      <th>City</th>\n",
              "      <th>ID</th>\n",
              "      <th>Kind</th>\n",
              "      <th>Geo point</th>\n",
              "      <th>Postal code</th>\n",
              "      <th>Public name</th>\n",
              "      <th>Rental status</th>\n",
              "      <th>Scheduled at</th>\n",
              "      <th>Slots</th>\n",
              "      <th>Station type</th>\n",
              "      <th>Status</th>\n",
              "      <th>Subscription status</th>\n",
              "      <th>year</th>\n",
              "      <th>month</th>\n",
              "      <th>day</th>\n",
              "      <th>hour</th>\n",
              "      <th>datetime</th>\n",
              "    </tr>\n",
              "  </thead>\n",
              "  <tbody>\n",
              "    <tr>\n",
              "      <th>0</th>\n",
              "      <td>1352</td>\n",
              "      <td>61 quai Blanqui</td>\n",
              "      <td>0</td>\n",
              "      <td>0</td>\n",
              "      <td>0</td>\n",
              "      <td>0</td>\n",
              "      <td>nonexistent</td>\n",
              "      <td>Alfortville</td>\n",
              "      <td>alfortville-blanqui-61</td>\n",
              "      <td>STATION</td>\n",
              "      <td>48.80188, 2.415843</td>\n",
              "      <td>94140</td>\n",
              "      <td>Alfortville/Blanqui/61</td>\n",
              "      <td>broken</td>\n",
              "      <td>NaN</td>\n",
              "      <td>0</td>\n",
              "      <td>station</td>\n",
              "      <td>closed</td>\n",
              "      <td>nonexistent</td>\n",
              "      <td>2018</td>\n",
              "      <td>4</td>\n",
              "      <td>2</td>\n",
              "      <td>19</td>\n",
              "      <td>2018-04-02 19:28:00</td>\n",
              "    </tr>\n",
              "    <tr>\n",
              "      <th>1</th>\n",
              "      <td>4528</td>\n",
              "      <td>61 quai Blanqui</td>\n",
              "      <td>0</td>\n",
              "      <td>0</td>\n",
              "      <td>0</td>\n",
              "      <td>0</td>\n",
              "      <td>nonexistent</td>\n",
              "      <td>Alfortville</td>\n",
              "      <td>alfortville-blanqui-61</td>\n",
              "      <td>STATION</td>\n",
              "      <td>48.80188, 2.415843</td>\n",
              "      <td>94140</td>\n",
              "      <td>Alfortville/Blanqui/61</td>\n",
              "      <td>broken</td>\n",
              "      <td>NaN</td>\n",
              "      <td>0</td>\n",
              "      <td>station</td>\n",
              "      <td>closed</td>\n",
              "      <td>nonexistent</td>\n",
              "      <td>2018</td>\n",
              "      <td>4</td>\n",
              "      <td>4</td>\n",
              "      <td>9</td>\n",
              "      <td>2018-04-04 09:05:00</td>\n",
              "    </tr>\n",
              "  </tbody>\n",
              "</table>\n",
              "</div>\n",
              "      <button class=\"colab-df-convert\" onclick=\"convertToInteractive('df-92c3ed98-7799-4402-9229-afd21395c92d')\"\n",
              "              title=\"Convert this dataframe to an interactive table.\"\n",
              "              style=\"display:none;\">\n",
              "        \n",
              "  <svg xmlns=\"http://www.w3.org/2000/svg\" height=\"24px\"viewBox=\"0 0 24 24\"\n",
              "       width=\"24px\">\n",
              "    <path d=\"M0 0h24v24H0V0z\" fill=\"none\"/>\n",
              "    <path d=\"M18.56 5.44l.94 2.06.94-2.06 2.06-.94-2.06-.94-.94-2.06-.94 2.06-2.06.94zm-11 1L8.5 8.5l.94-2.06 2.06-.94-2.06-.94L8.5 2.5l-.94 2.06-2.06.94zm10 10l.94 2.06.94-2.06 2.06-.94-2.06-.94-.94-2.06-.94 2.06-2.06.94z\"/><path d=\"M17.41 7.96l-1.37-1.37c-.4-.4-.92-.59-1.43-.59-.52 0-1.04.2-1.43.59L10.3 9.45l-7.72 7.72c-.78.78-.78 2.05 0 2.83L4 21.41c.39.39.9.59 1.41.59.51 0 1.02-.2 1.41-.59l7.78-7.78 2.81-2.81c.8-.78.8-2.07 0-2.86zM5.41 20L4 18.59l7.72-7.72 1.47 1.35L5.41 20z\"/>\n",
              "  </svg>\n",
              "      </button>\n",
              "      \n",
              "  <style>\n",
              "    .colab-df-container {\n",
              "      display:flex;\n",
              "      flex-wrap:wrap;\n",
              "      gap: 12px;\n",
              "    }\n",
              "\n",
              "    .colab-df-convert {\n",
              "      background-color: #E8F0FE;\n",
              "      border: none;\n",
              "      border-radius: 50%;\n",
              "      cursor: pointer;\n",
              "      display: none;\n",
              "      fill: #1967D2;\n",
              "      height: 32px;\n",
              "      padding: 0 0 0 0;\n",
              "      width: 32px;\n",
              "    }\n",
              "\n",
              "    .colab-df-convert:hover {\n",
              "      background-color: #E2EBFA;\n",
              "      box-shadow: 0px 1px 2px rgba(60, 64, 67, 0.3), 0px 1px 3px 1px rgba(60, 64, 67, 0.15);\n",
              "      fill: #174EA6;\n",
              "    }\n",
              "\n",
              "    [theme=dark] .colab-df-convert {\n",
              "      background-color: #3B4455;\n",
              "      fill: #D2E3FC;\n",
              "    }\n",
              "\n",
              "    [theme=dark] .colab-df-convert:hover {\n",
              "      background-color: #434B5C;\n",
              "      box-shadow: 0px 1px 3px 1px rgba(0, 0, 0, 0.15);\n",
              "      filter: drop-shadow(0px 1px 2px rgba(0, 0, 0, 0.3));\n",
              "      fill: #FFFFFF;\n",
              "    }\n",
              "  </style>\n",
              "\n",
              "      <script>\n",
              "        const buttonEl =\n",
              "          document.querySelector('#df-92c3ed98-7799-4402-9229-afd21395c92d button.colab-df-convert');\n",
              "        buttonEl.style.display =\n",
              "          google.colab.kernel.accessAllowed ? 'block' : 'none';\n",
              "\n",
              "        async function convertToInteractive(key) {\n",
              "          const element = document.querySelector('#df-92c3ed98-7799-4402-9229-afd21395c92d');\n",
              "          const dataTable =\n",
              "            await google.colab.kernel.invokeFunction('convertToInteractive',\n",
              "                                                     [key], {});\n",
              "          if (!dataTable) return;\n",
              "\n",
              "          const docLinkHtml = 'Like what you see? Visit the ' +\n",
              "            '<a target=\"_blank\" href=https://colab.research.google.com/notebooks/data_table.ipynb>data table notebook</a>'\n",
              "            + ' to learn more about interactive tables.';\n",
              "          element.innerHTML = '';\n",
              "          dataTable['output_type'] = 'display_data';\n",
              "          await google.colab.output.renderOutput(dataTable, element);\n",
              "          const docLink = document.createElement('div');\n",
              "          docLink.innerHTML = docLinkHtml;\n",
              "          element.appendChild(docLink);\n",
              "        }\n",
              "      </script>\n",
              "    </div>\n",
              "  </div>\n",
              "  "
            ],
            "text/plain": [
              "   index          Address  Bluecar counter  ...  day  hour            datetime\n",
              "0   1352  61 quai Blanqui                0  ...    2    19 2018-04-02 19:28:00\n",
              "1   4528  61 quai Blanqui                0  ...    4     9 2018-04-04 09:05:00\n",
              "\n",
              "[2 rows x 24 columns]"
            ]
          },
          "metadata": {},
          "execution_count": 18
        }
      ]
    },
    {
      "cell_type": "markdown",
      "source": [
        "Reset index to factor in the new order the data frame has been ordered"
      ],
      "metadata": {
        "id": "5LIii-iWpn7c"
      }
    },
    {
      "cell_type": "code",
      "source": [
        "# Specifying the variable values of rows and columns\n",
        "#\n",
        "rows = 5000\n",
        "columns = 1\n",
        "\n",
        "# Creating a list thet prints out 1, and 0 in alternating order\n",
        "#\n",
        "\n",
        "table = [[(i+j)%2 for i in range(columns)] for j in range(rows)]\n",
        "# Creating a data frame from the table list\n",
        "#\n",
        "df = pd.DataFrame(table, columns = ['returned/picked'])\n",
        "\n",
        "#  Converting the values  0 and 1 in the data frame to picked and return\n",
        "#\n",
        "df[\"returned/picked\"].replace({ 0: \"picked\", 1: \"returned\"}, inplace=True)\n",
        "\n",
        "# joining the two data frames using inner join\n",
        "#\n",
        "autolib = pd.concat([autolib_df, df], axis=1, join='inner')\n",
        "\n",
        "# visualizing the dataframe\n",
        "#\n",
        "autolib.head()"
      ],
      "metadata": {
        "colab": {
          "base_uri": "https://localhost:8080/",
          "height": 496
        },
        "id": "tq1bv2pYaLTL",
        "outputId": "296d060c-8b76-4997-c051-7988ba7f1fe6"
      },
      "execution_count": 19,
      "outputs": [
        {
          "output_type": "execute_result",
          "data": {
            "text/html": [
              "\n",
              "  <div id=\"df-083b8d9a-888c-493b-b59d-3f5c23741e0f\">\n",
              "    <div class=\"colab-df-container\">\n",
              "      <div>\n",
              "<style scoped>\n",
              "    .dataframe tbody tr th:only-of-type {\n",
              "        vertical-align: middle;\n",
              "    }\n",
              "\n",
              "    .dataframe tbody tr th {\n",
              "        vertical-align: top;\n",
              "    }\n",
              "\n",
              "    .dataframe thead th {\n",
              "        text-align: right;\n",
              "    }\n",
              "</style>\n",
              "<table border=\"1\" class=\"dataframe\">\n",
              "  <thead>\n",
              "    <tr style=\"text-align: right;\">\n",
              "      <th></th>\n",
              "      <th>index</th>\n",
              "      <th>Address</th>\n",
              "      <th>Bluecar counter</th>\n",
              "      <th>Utilib counter</th>\n",
              "      <th>Utilib 1.4 counter</th>\n",
              "      <th>Charge Slots</th>\n",
              "      <th>Charging Status</th>\n",
              "      <th>City</th>\n",
              "      <th>ID</th>\n",
              "      <th>Kind</th>\n",
              "      <th>Geo point</th>\n",
              "      <th>Postal code</th>\n",
              "      <th>Public name</th>\n",
              "      <th>Rental status</th>\n",
              "      <th>Scheduled at</th>\n",
              "      <th>Slots</th>\n",
              "      <th>Station type</th>\n",
              "      <th>Status</th>\n",
              "      <th>Subscription status</th>\n",
              "      <th>year</th>\n",
              "      <th>month</th>\n",
              "      <th>day</th>\n",
              "      <th>hour</th>\n",
              "      <th>datetime</th>\n",
              "      <th>returned/picked</th>\n",
              "    </tr>\n",
              "  </thead>\n",
              "  <tbody>\n",
              "    <tr>\n",
              "      <th>0</th>\n",
              "      <td>1352</td>\n",
              "      <td>61 quai Blanqui</td>\n",
              "      <td>0</td>\n",
              "      <td>0</td>\n",
              "      <td>0</td>\n",
              "      <td>0</td>\n",
              "      <td>nonexistent</td>\n",
              "      <td>Alfortville</td>\n",
              "      <td>alfortville-blanqui-61</td>\n",
              "      <td>STATION</td>\n",
              "      <td>48.80188, 2.415843</td>\n",
              "      <td>94140</td>\n",
              "      <td>Alfortville/Blanqui/61</td>\n",
              "      <td>broken</td>\n",
              "      <td>NaN</td>\n",
              "      <td>0</td>\n",
              "      <td>station</td>\n",
              "      <td>closed</td>\n",
              "      <td>nonexistent</td>\n",
              "      <td>2018</td>\n",
              "      <td>4</td>\n",
              "      <td>2</td>\n",
              "      <td>19</td>\n",
              "      <td>2018-04-02 19:28:00</td>\n",
              "      <td>picked</td>\n",
              "    </tr>\n",
              "    <tr>\n",
              "      <th>1</th>\n",
              "      <td>4528</td>\n",
              "      <td>61 quai Blanqui</td>\n",
              "      <td>0</td>\n",
              "      <td>0</td>\n",
              "      <td>0</td>\n",
              "      <td>0</td>\n",
              "      <td>nonexistent</td>\n",
              "      <td>Alfortville</td>\n",
              "      <td>alfortville-blanqui-61</td>\n",
              "      <td>STATION</td>\n",
              "      <td>48.80188, 2.415843</td>\n",
              "      <td>94140</td>\n",
              "      <td>Alfortville/Blanqui/61</td>\n",
              "      <td>broken</td>\n",
              "      <td>NaN</td>\n",
              "      <td>0</td>\n",
              "      <td>station</td>\n",
              "      <td>closed</td>\n",
              "      <td>nonexistent</td>\n",
              "      <td>2018</td>\n",
              "      <td>4</td>\n",
              "      <td>4</td>\n",
              "      <td>9</td>\n",
              "      <td>2018-04-04 09:05:00</td>\n",
              "      <td>returned</td>\n",
              "    </tr>\n",
              "    <tr>\n",
              "      <th>2</th>\n",
              "      <td>4880</td>\n",
              "      <td>61 quai Blanqui</td>\n",
              "      <td>0</td>\n",
              "      <td>0</td>\n",
              "      <td>0</td>\n",
              "      <td>0</td>\n",
              "      <td>nonexistent</td>\n",
              "      <td>Alfortville</td>\n",
              "      <td>alfortville-blanqui-61</td>\n",
              "      <td>STATION</td>\n",
              "      <td>48.80188, 2.415843</td>\n",
              "      <td>94140</td>\n",
              "      <td>Alfortville/Blanqui/61</td>\n",
              "      <td>broken</td>\n",
              "      <td>NaN</td>\n",
              "      <td>0</td>\n",
              "      <td>station</td>\n",
              "      <td>closed</td>\n",
              "      <td>nonexistent</td>\n",
              "      <td>2018</td>\n",
              "      <td>4</td>\n",
              "      <td>7</td>\n",
              "      <td>18</td>\n",
              "      <td>2018-04-07 18:40:00</td>\n",
              "      <td>picked</td>\n",
              "    </tr>\n",
              "    <tr>\n",
              "      <th>3</th>\n",
              "      <td>1693</td>\n",
              "      <td>61 quai Blanqui</td>\n",
              "      <td>0</td>\n",
              "      <td>0</td>\n",
              "      <td>0</td>\n",
              "      <td>0</td>\n",
              "      <td>nonexistent</td>\n",
              "      <td>Alfortville</td>\n",
              "      <td>alfortville-blanqui-61</td>\n",
              "      <td>STATION</td>\n",
              "      <td>48.80188, 2.415843</td>\n",
              "      <td>94140</td>\n",
              "      <td>Alfortville/Blanqui/61</td>\n",
              "      <td>broken</td>\n",
              "      <td>NaN</td>\n",
              "      <td>0</td>\n",
              "      <td>station</td>\n",
              "      <td>closed</td>\n",
              "      <td>nonexistent</td>\n",
              "      <td>2018</td>\n",
              "      <td>4</td>\n",
              "      <td>9</td>\n",
              "      <td>9</td>\n",
              "      <td>2018-04-09 09:01:00</td>\n",
              "      <td>returned</td>\n",
              "    </tr>\n",
              "    <tr>\n",
              "      <th>4</th>\n",
              "      <td>4424</td>\n",
              "      <td>16 Rue Charles de Gaulle</td>\n",
              "      <td>2</td>\n",
              "      <td>0</td>\n",
              "      <td>0</td>\n",
              "      <td>0</td>\n",
              "      <td>nonexistent</td>\n",
              "      <td>Alfortville</td>\n",
              "      <td>alfortville-charlesdegaulle-16</td>\n",
              "      <td>STATION</td>\n",
              "      <td>48.81456, 2.413135</td>\n",
              "      <td>94140</td>\n",
              "      <td>Alfortville/Charles de Gaulle/16</td>\n",
              "      <td>operational</td>\n",
              "      <td>NaN</td>\n",
              "      <td>0</td>\n",
              "      <td>station</td>\n",
              "      <td>ok</td>\n",
              "      <td>nonexistent</td>\n",
              "      <td>2018</td>\n",
              "      <td>4</td>\n",
              "      <td>1</td>\n",
              "      <td>0</td>\n",
              "      <td>2018-04-01 00:36:00</td>\n",
              "      <td>picked</td>\n",
              "    </tr>\n",
              "  </tbody>\n",
              "</table>\n",
              "</div>\n",
              "      <button class=\"colab-df-convert\" onclick=\"convertToInteractive('df-083b8d9a-888c-493b-b59d-3f5c23741e0f')\"\n",
              "              title=\"Convert this dataframe to an interactive table.\"\n",
              "              style=\"display:none;\">\n",
              "        \n",
              "  <svg xmlns=\"http://www.w3.org/2000/svg\" height=\"24px\"viewBox=\"0 0 24 24\"\n",
              "       width=\"24px\">\n",
              "    <path d=\"M0 0h24v24H0V0z\" fill=\"none\"/>\n",
              "    <path d=\"M18.56 5.44l.94 2.06.94-2.06 2.06-.94-2.06-.94-.94-2.06-.94 2.06-2.06.94zm-11 1L8.5 8.5l.94-2.06 2.06-.94-2.06-.94L8.5 2.5l-.94 2.06-2.06.94zm10 10l.94 2.06.94-2.06 2.06-.94-2.06-.94-.94-2.06-.94 2.06-2.06.94z\"/><path d=\"M17.41 7.96l-1.37-1.37c-.4-.4-.92-.59-1.43-.59-.52 0-1.04.2-1.43.59L10.3 9.45l-7.72 7.72c-.78.78-.78 2.05 0 2.83L4 21.41c.39.39.9.59 1.41.59.51 0 1.02-.2 1.41-.59l7.78-7.78 2.81-2.81c.8-.78.8-2.07 0-2.86zM5.41 20L4 18.59l7.72-7.72 1.47 1.35L5.41 20z\"/>\n",
              "  </svg>\n",
              "      </button>\n",
              "      \n",
              "  <style>\n",
              "    .colab-df-container {\n",
              "      display:flex;\n",
              "      flex-wrap:wrap;\n",
              "      gap: 12px;\n",
              "    }\n",
              "\n",
              "    .colab-df-convert {\n",
              "      background-color: #E8F0FE;\n",
              "      border: none;\n",
              "      border-radius: 50%;\n",
              "      cursor: pointer;\n",
              "      display: none;\n",
              "      fill: #1967D2;\n",
              "      height: 32px;\n",
              "      padding: 0 0 0 0;\n",
              "      width: 32px;\n",
              "    }\n",
              "\n",
              "    .colab-df-convert:hover {\n",
              "      background-color: #E2EBFA;\n",
              "      box-shadow: 0px 1px 2px rgba(60, 64, 67, 0.3), 0px 1px 3px 1px rgba(60, 64, 67, 0.15);\n",
              "      fill: #174EA6;\n",
              "    }\n",
              "\n",
              "    [theme=dark] .colab-df-convert {\n",
              "      background-color: #3B4455;\n",
              "      fill: #D2E3FC;\n",
              "    }\n",
              "\n",
              "    [theme=dark] .colab-df-convert:hover {\n",
              "      background-color: #434B5C;\n",
              "      box-shadow: 0px 1px 3px 1px rgba(0, 0, 0, 0.15);\n",
              "      filter: drop-shadow(0px 1px 2px rgba(0, 0, 0, 0.3));\n",
              "      fill: #FFFFFF;\n",
              "    }\n",
              "  </style>\n",
              "\n",
              "      <script>\n",
              "        const buttonEl =\n",
              "          document.querySelector('#df-083b8d9a-888c-493b-b59d-3f5c23741e0f button.colab-df-convert');\n",
              "        buttonEl.style.display =\n",
              "          google.colab.kernel.accessAllowed ? 'block' : 'none';\n",
              "\n",
              "        async function convertToInteractive(key) {\n",
              "          const element = document.querySelector('#df-083b8d9a-888c-493b-b59d-3f5c23741e0f');\n",
              "          const dataTable =\n",
              "            await google.colab.kernel.invokeFunction('convertToInteractive',\n",
              "                                                     [key], {});\n",
              "          if (!dataTable) return;\n",
              "\n",
              "          const docLinkHtml = 'Like what you see? Visit the ' +\n",
              "            '<a target=\"_blank\" href=https://colab.research.google.com/notebooks/data_table.ipynb>data table notebook</a>'\n",
              "            + ' to learn more about interactive tables.';\n",
              "          element.innerHTML = '';\n",
              "          dataTable['output_type'] = 'display_data';\n",
              "          await google.colab.output.renderOutput(dataTable, element);\n",
              "          const docLink = document.createElement('div');\n",
              "          docLink.innerHTML = docLinkHtml;\n",
              "          element.appendChild(docLink);\n",
              "        }\n",
              "      </script>\n",
              "    </div>\n",
              "  </div>\n",
              "  "
            ],
            "text/plain": [
              "   index                   Address  ...            datetime  returned/picked\n",
              "0   1352           61 quai Blanqui  ... 2018-04-02 19:28:00           picked\n",
              "1   4528           61 quai Blanqui  ... 2018-04-04 09:05:00         returned\n",
              "2   4880           61 quai Blanqui  ... 2018-04-07 18:40:00           picked\n",
              "3   1693           61 quai Blanqui  ... 2018-04-09 09:01:00         returned\n",
              "4   4424  16 Rue Charles de Gaulle  ... 2018-04-01 00:36:00           picked\n",
              "\n",
              "[5 rows x 25 columns]"
            ]
          },
          "metadata": {},
          "execution_count": 19
        }
      ]
    },
    {
      "cell_type": "markdown",
      "source": [
        "- A new data frame is created with alternating values of picked and returned\n",
        "- The newly created data frame is joined with the autolib_df after ordering hence creating alternating rows of columns and rows which will enable analysis of when the cars were returned or picked"
      ],
      "metadata": {
        "id": "_PjzAG6fqie2"
      }
    },
    {
      "cell_type": "code",
      "source": [
        "# preview column info\n",
        "#\n",
        "autolib.info()\n"
      ],
      "metadata": {
        "colab": {
          "base_uri": "https://localhost:8080/"
        },
        "id": "cg9lTuERTSIT",
        "outputId": "f4ed928f-4e3b-4bc7-ad5d-a054eb230137"
      },
      "execution_count": 20,
      "outputs": [
        {
          "output_type": "stream",
          "name": "stdout",
          "text": [
            "<class 'pandas.core.frame.DataFrame'>\n",
            "RangeIndex: 5000 entries, 0 to 4999\n",
            "Data columns (total 25 columns):\n",
            " #   Column               Non-Null Count  Dtype         \n",
            "---  ------               --------------  -----         \n",
            " 0   index                5000 non-null   int64         \n",
            " 1   Address              5000 non-null   object        \n",
            " 2   Bluecar counter      5000 non-null   int64         \n",
            " 3   Utilib counter       5000 non-null   int64         \n",
            " 4   Utilib 1.4 counter   5000 non-null   int64         \n",
            " 5   Charge Slots         5000 non-null   int64         \n",
            " 6   Charging Status      5000 non-null   object        \n",
            " 7   City                 5000 non-null   object        \n",
            " 8   ID                   5000 non-null   object        \n",
            " 9   Kind                 5000 non-null   object        \n",
            " 10  Geo point            5000 non-null   object        \n",
            " 11  Postal code          5000 non-null   int64         \n",
            " 12  Public name          5000 non-null   object        \n",
            " 13  Rental status        5000 non-null   object        \n",
            " 14  Scheduled at         47 non-null     object        \n",
            " 15  Slots                5000 non-null   int64         \n",
            " 16  Station type         5000 non-null   object        \n",
            " 17  Status               5000 non-null   object        \n",
            " 18  Subscription status  5000 non-null   object        \n",
            " 19  year                 5000 non-null   object        \n",
            " 20  month                5000 non-null   object        \n",
            " 21  day                  5000 non-null   object        \n",
            " 22  hour                 5000 non-null   object        \n",
            " 23  datetime             5000 non-null   datetime64[ns]\n",
            " 24  returned/picked      5000 non-null   object        \n",
            "dtypes: datetime64[ns](1), int64(7), object(17)\n",
            "memory usage: 976.7+ KB\n"
          ]
        }
      ]
    },
    {
      "cell_type": "markdown",
      "source": [
        "Data is uniform"
      ],
      "metadata": {
        "id": "hAe1SES3TvWi"
      }
    },
    {
      "cell_type": "markdown",
      "source": [
        "## 1.5 Exporting datasheet\n",
        "\n"
      ],
      "metadata": {
        "id": "_rD5R9JCXTkw"
      }
    },
    {
      "cell_type": "markdown",
      "source": [
        "Downloading cleaned auto lib data data"
      ],
      "metadata": {
        "id": "zG04WTttbx1Q"
      }
    },
    {
      "cell_type": "code",
      "source": [
        "# Exporting dataframe as CSV file\n",
        "#\n",
        "from google.colab import files\n",
        "autolib.to_csv('autolib.csv')\n",
        "files.download('autolib.csv')"
      ],
      "metadata": {
        "id": "AxYSHUMYTyjC",
        "colab": {
          "base_uri": "https://localhost:8080/",
          "height": 17
        },
        "outputId": "bd453cd6-3b86-4a9d-c83f-2eab2ec81c00"
      },
      "execution_count": 21,
      "outputs": [
        {
          "output_type": "display_data",
          "data": {
            "application/javascript": [
              "\n",
              "    async function download(id, filename, size) {\n",
              "      if (!google.colab.kernel.accessAllowed) {\n",
              "        return;\n",
              "      }\n",
              "      const div = document.createElement('div');\n",
              "      const label = document.createElement('label');\n",
              "      label.textContent = `Downloading \"${filename}\": `;\n",
              "      div.appendChild(label);\n",
              "      const progress = document.createElement('progress');\n",
              "      progress.max = size;\n",
              "      div.appendChild(progress);\n",
              "      document.body.appendChild(div);\n",
              "\n",
              "      const buffers = [];\n",
              "      let downloaded = 0;\n",
              "\n",
              "      const channel = await google.colab.kernel.comms.open(id);\n",
              "      // Send a message to notify the kernel that we're ready.\n",
              "      channel.send({})\n",
              "\n",
              "      for await (const message of channel.messages) {\n",
              "        // Send a message to notify the kernel that we're ready.\n",
              "        channel.send({})\n",
              "        if (message.buffers) {\n",
              "          for (const buffer of message.buffers) {\n",
              "            buffers.push(buffer);\n",
              "            downloaded += buffer.byteLength;\n",
              "            progress.value = downloaded;\n",
              "          }\n",
              "        }\n",
              "      }\n",
              "      const blob = new Blob(buffers, {type: 'application/binary'});\n",
              "      const a = document.createElement('a');\n",
              "      a.href = window.URL.createObjectURL(blob);\n",
              "      a.download = filename;\n",
              "      div.appendChild(a);\n",
              "      a.click();\n",
              "      div.remove();\n",
              "    }\n",
              "  "
            ],
            "text/plain": [
              "<IPython.core.display.Javascript object>"
            ]
          },
          "metadata": {}
        },
        {
          "output_type": "display_data",
          "data": {
            "application/javascript": [
              "download(\"download_05a4bb2a-670c-4586-b8e0-3eb8a8037fb0\", \"autolib.csv\", 1118903)"
            ],
            "text/plain": [
              "<IPython.core.display.Javascript object>"
            ]
          },
          "metadata": {}
        }
      ]
    },
    {
      "cell_type": "markdown",
      "source": [
        "## 1.6 Research question analysis"
      ],
      "metadata": {
        "id": "kg1wWYpgSosI"
      }
    },
    {
      "cell_type": "markdown",
      "source": [
        "<font color=\"green\">Main question analysis</font>"
      ],
      "metadata": {
        "id": "_xOCPLgISqFr"
      }
    },
    {
      "cell_type": "code",
      "source": [
        "# Research Question\n",
        "# Identify the most popular hour of the day for picking up a shared electric car (Bluecar) in the city of Paris over the month of April 2018.\n",
        "# Using loc method to isolate data for the month of april and year 2018\n",
        "# Using value count method to determine the frequency of the various unique objects  in the hour column data set\n",
        "# \n",
        "autolib['hour'].loc[(autolib['month'] == '4') & (autolib['year'] == '2018') & (autolib['returned/picked'] == 'picked') & (autolib['Bluecar counter']) & (autolib['City'] == 'Paris')].value_counts()\n",
        "\n",
        "# Using mode method to determine the most popular hour for picking up shared electric blue car in the city of paris over the month of april 2018\n",
        "#\n",
        "autolib['hour'].loc[(autolib['month'] == '4') & (autolib['year'] == '2018') & (autolib['returned/picked'] == 'picked') & (autolib['Bluecar counter']) & (autolib['City'] == 'Paris')].mode()\n"
      ],
      "metadata": {
        "colab": {
          "base_uri": "https://localhost:8080/"
        },
        "id": "LMCG8vRHSx7E",
        "outputId": "c03270c4-0963-4786-f75a-4f84f11539a1"
      },
      "execution_count": 22,
      "outputs": [
        {
          "output_type": "execute_result",
          "data": {
            "text/plain": [
              "0    12\n",
              "dtype: object"
            ]
          },
          "metadata": {},
          "execution_count": 22
        }
      ]
    },
    {
      "cell_type": "markdown",
      "source": [
        "The most popular hour of the day for picking up a shared electric blue car in the city of paris in the month of April 2018;\n",
        "- Hour 12\n",
        "- Frequency 34"
      ],
      "metadata": {
        "id": "gVKzl5oguPjt"
      }
    },
    {
      "cell_type": "markdown",
      "source": [
        "<font color=\"green\">Bonus question analysis</font>"
      ],
      "metadata": {
        "id": "soxWP3MOqBnO"
      }
    },
    {
      "cell_type": "code",
      "source": [
        "# Challenge 1\n",
        "# What is the most popular hour of returning cars\n",
        "# Performing a value count of all unique hours using value count method\n",
        "#\n",
        "autolib['hour'].loc[(autolib['returned/picked'] == 'returned')].value_counts()\n",
        "\n",
        "# determining most popular hour using mode method\n",
        "#\n",
        "autolib['hour'].loc[(autolib['returned/picked'] == 'returned')].mode()"
      ],
      "metadata": {
        "colab": {
          "base_uri": "https://localhost:8080/"
        },
        "id": "9JhkzUyuqGJd",
        "outputId": "913675b8-a51f-4d6f-cbcc-291c6e343db0"
      },
      "execution_count": 23,
      "outputs": [
        {
          "output_type": "execute_result",
          "data": {
            "text/plain": [
              "0    21\n",
              "dtype: object"
            ]
          },
          "metadata": {},
          "execution_count": 23
        }
      ]
    },
    {
      "cell_type": "markdown",
      "source": [
        "The most popular time to return cars was \n",
        "- hour 21\n",
        "- frequency 122"
      ],
      "metadata": {
        "id": "nmwJzGUPs28o"
      }
    },
    {
      "cell_type": "code",
      "source": [
        "# Challenge 2\n",
        "# Most popular station overall\n",
        "# finding the value count of the most popular stations\n",
        "#\n",
        "autolib['Public name'].value_counts()\n",
        "\n",
        "# determining most popular station using the mode method\n",
        "autolib['Public name'].mode()"
      ],
      "metadata": {
        "colab": {
          "base_uri": "https://localhost:8080/"
        },
        "id": "HwtxvW_utmtp",
        "outputId": "99e68ae9-3227-49e2-a5a4-149a9ce3d575"
      },
      "execution_count": 24,
      "outputs": [
        {
          "output_type": "execute_result",
          "data": {
            "text/plain": [
              "0    Paris/Porte de Montrouge/8\n",
              "dtype: object"
            ]
          },
          "metadata": {},
          "execution_count": 24
        }
      ]
    },
    {
      "cell_type": "markdown",
      "source": [
        "The most popular overall station;\n",
        "- 'Paris/Porte de Montrouge/8'\n",
        "- frequency of 13 "
      ],
      "metadata": {
        "id": "4lR9-7StuZFu"
      }
    },
    {
      "cell_type": "code",
      "source": [
        "# Challenge 3\n",
        "# Finding the most popular station at most picking popular hour\n",
        "# finding most popular picking using mode method and frequecy using value counts method\n",
        "#\n",
        "autolib['hour'].loc[(autolib['returned/picked'] == 'picked')].value_counts()\n",
        "autolib['hour'].loc[(autolib['returned/picked'] == 'picked')].mode()\n",
        "\n",
        "# Getting the value counts of Public name using mode method at the most popular hour\n",
        "#\n",
        "autolib['Public name'].loc[(autolib['hour'] == '2')].value_counts()\n",
        "\n",
        "# Determining the most popular station(public name) using mode method at the most popular hour\n",
        "autolib['Public name'].loc[(autolib['hour'] == '2')].mode()\n"
      ],
      "metadata": {
        "colab": {
          "base_uri": "https://localhost:8080/"
        },
        "id": "iF7c9NZpugd-",
        "outputId": "da680edf-9a00-4945-9cb2-195b23d74424"
      },
      "execution_count": 25,
      "outputs": [
        {
          "output_type": "execute_result",
          "data": {
            "text/plain": [
              "0            Courbevoie/Paix/2\n",
              "1    Saint-Ouen/Louis Blanc/35\n",
              "dtype: object"
            ]
          },
          "metadata": {},
          "execution_count": 25
        }
      ]
    },
    {
      "cell_type": "markdown",
      "source": [
        "The most popular picking hour;\n",
        "- hour 2\n",
        "- frequency 119\n",
        "\n",
        "Most popular stations at the most popular picking hour;\n",
        "- Courbevoie/ Paix/2\n",
        "- saintouen/louis Blanc/35\n",
        "- freqeuncy 3 respectively"
      ],
      "metadata": {
        "id": "3zGWZqFB2m6i"
      }
    },
    {
      "cell_type": "markdown",
      "source": [
        "<font color=\"green\">Blue Car</font>"
      ],
      "metadata": {
        "id": "478VjludCo1y"
      }
    },
    {
      "cell_type": "code",
      "source": [
        "# Challenge 4\n",
        "#  postal code of the  most popular station\n",
        "# Finding postal code of most popular station Paris/Porte de Montrouge/8 using location method to determine postal code\n",
        "#\n",
        "autolib['Postal code'].loc[(autolib['Public name'] == 'Paris/Porte de Montrouge/8')]"
      ],
      "metadata": {
        "colab": {
          "base_uri": "https://localhost:8080/"
        },
        "id": "GZ7xymrNugQW",
        "outputId": "5e271f71-cf96-40d7-85fa-c6cf060edeb4"
      },
      "execution_count": 26,
      "outputs": [
        {
          "output_type": "execute_result",
          "data": {
            "text/plain": [
              "3635    75014\n",
              "3636    75014\n",
              "3637    75014\n",
              "3638    75014\n",
              "3639    75014\n",
              "3640    75014\n",
              "3641    75014\n",
              "3642    75014\n",
              "3643    75014\n",
              "3644    75014\n",
              "3645    75014\n",
              "3646    75014\n",
              "3647    75014\n",
              "Name: Postal code, dtype: int64"
            ]
          },
          "metadata": {},
          "execution_count": 26
        }
      ]
    },
    {
      "cell_type": "markdown",
      "source": [
        "Postal code of most popular station;\n",
        "- postal code 75014"
      ],
      "metadata": {
        "id": "MOAX3Luzyv49"
      }
    },
    {
      "cell_type": "code",
      "source": [
        "# Challenge 5\n",
        "# Most popular postal code for picking blue cars\n",
        "# Establishing the value counts of unique postal codes for blue cars using value count method\n",
        "#\n",
        "autolib['Postal code'].loc[(autolib['Bluecar counter']) & (autolib['returned/picked'] == 'picked')].value_counts()\n",
        "\n",
        "# Determing the most popular postal code for blue cars using mode method\n",
        "#\n",
        "autolib['Postal code'].loc[(autolib['Bluecar counter']) & (autolib['returned/picked'] == 'picked')].mode()\n"
      ],
      "metadata": {
        "colab": {
          "base_uri": "https://localhost:8080/"
        },
        "id": "v-mweTQ5ugTe",
        "outputId": "4efd9d3d-ae37-41bc-9e48-7ec85dc80758"
      },
      "execution_count": 27,
      "outputs": [
        {
          "output_type": "execute_result",
          "data": {
            "text/plain": [
              "0    75017\n",
              "dtype: int64"
            ]
          },
          "metadata": {},
          "execution_count": 27
        }
      ]
    },
    {
      "cell_type": "markdown",
      "source": [
        "The most popular postal code for picking blue cars was;\n",
        "- postal code 75017 \n",
        "- frequency of 59\n",
        "\n",
        "The most popular station 'paris-portedemontrouge-8' does not belong to this postal code"
      ],
      "metadata": {
        "id": "nlMLfO0Y4UK5"
      }
    },
    {
      "cell_type": "code",
      "source": [
        "# Challenge 6\n",
        "# postal code most popular for  picking bluecars at the most popular picking hour\n",
        "# using location to group the data sets by blue car and most popular hour, picked/returned \n",
        "# and using value count method to get order most popular postal code in this grouping\n",
        "#\n",
        "autolib['Postal code'].loc[(autolib['hour'] == '2') & (autolib['Bluecar counter']) & (autolib['returned/picked'] == 'picked')].value_counts()\n",
        "\n",
        "# using location to group the data sets by blue car and most popular hour and \n",
        "#using mode method to get most popular postal code in this grouping\n",
        "#\n",
        "autolib['Postal code'].loc[(autolib['hour'] == '2') & (autolib['Bluecar counter']) & (autolib['returned/picked'] == 'picked')].mode()"
      ],
      "metadata": {
        "colab": {
          "base_uri": "https://localhost:8080/"
        },
        "id": "MT4UuMKb4yaw",
        "outputId": "638324f3-c91e-4113-fc04-e2d7fabe7e13"
      },
      "execution_count": 28,
      "outputs": [
        {
          "output_type": "execute_result",
          "data": {
            "text/plain": [
              "0    75015\n",
              "dtype: int64"
            ]
          },
          "metadata": {},
          "execution_count": 28
        }
      ]
    },
    {
      "cell_type": "markdown",
      "source": [
        "The most popular postal codes for picking blue cars at the most popular hour were;\n",
        "-     postal code 75015\n",
        "-     frequency 4\n",
        "\n",
        "\n",
        "Each with a frequency of two.\n",
        "\n",
        "The most popular station 'Paris/Porte de Montrouge/8' does not belong to either of these postal codes"
      ],
      "metadata": {
        "id": "X6tqBKQ65DCc"
      }
    },
    {
      "cell_type": "markdown",
      "source": [
        "<font color=\"green\">Utilib</font>"
      ],
      "metadata": {
        "id": "yIw84mKLCg1D"
      }
    },
    {
      "cell_type": "code",
      "source": [
        "# Challenge 7\n",
        "# Most popular postal code for picking Utilib cars overall\n",
        "# selecting the location specifying the column for utilib cars. Perform a count of the post codes \n",
        "#\n",
        "autolib['Postal code'].loc[(autolib['Utilib counter']) & (autolib['returned/picked'] == 'picked')].value_counts()\n",
        "\n",
        "# Detrmining the postal code most used using the mode method\n",
        "autolib['Postal code'].loc[(autolib['Utilib counter']) & (autolib['returned/picked'] == 'picked')].mode()"
      ],
      "metadata": {
        "colab": {
          "base_uri": "https://localhost:8080/"
        },
        "id": "REWENc2p4yYP",
        "outputId": "ce607fcc-97f3-4e17-881d-6bdc45b441b9"
      },
      "execution_count": 29,
      "outputs": [
        {
          "output_type": "execute_result",
          "data": {
            "text/plain": [
              "0    75017\n",
              "dtype: int64"
            ]
          },
          "metadata": {},
          "execution_count": 29
        }
      ]
    },
    {
      "cell_type": "markdown",
      "source": [
        "Most popular postal code for picking utilib cars;\n",
        "- Postal code 75017\n",
        "- Frequency 11\n",
        "\n",
        "The postal code is similar to that of the most popular postal code for picking blue cars.However it has a lower frequency\n",
        "\n",
        "The most popular station 'Paris/Porte de Montrouge/8'  does not belong to this postal code "
      ],
      "metadata": {
        "id": "7kAB9BzO-E5j"
      }
    },
    {
      "cell_type": "code",
      "source": [
        "# Challenge 8\n",
        "# postal code most popular for  picking Utilib cars at the most picking popular hour\n",
        "# Finding the frequency of the unique postal codes at the most popular hour for utilib cars using value counts method\n",
        "#\n",
        "autolib['Postal code'].loc[(autolib['hour'] == '2') & (autolib['Utilib counter']) & (autolib['returned/picked'] == 'picked')].value_counts()\n",
        "\n",
        "# using location to group the data sets by car (Utilib), most popular hour, and picking status. \n",
        "# Using mode function to get most popular postal code in this grouping\n",
        "#\n",
        "autolib['Postal code'].loc[(autolib['hour'] == '2') & (autolib['Utilib counter']) & (autolib['returned/picked'] == 'picked')].mode()\n",
        "\n"
      ],
      "metadata": {
        "colab": {
          "base_uri": "https://localhost:8080/"
        },
        "id": "CcmWll984yV2",
        "outputId": "9458a8f8-b109-4da5-a859-ea1cb319931b"
      },
      "execution_count": 30,
      "outputs": [
        {
          "output_type": "execute_result",
          "data": {
            "text/plain": [
              "0    75015\n",
              "1    75017\n",
              "2    92310\n",
              "3    94340\n",
              "4    94800\n",
              "dtype: int64"
            ]
          },
          "metadata": {},
          "execution_count": 30
        }
      ]
    },
    {
      "cell_type": "markdown",
      "source": [
        "The most popular postal stations for picking utilib cars at the most popular picking our;\n",
        "- 75015\n",
        "- 75017\n",
        "- 92310\n",
        "- 94340\n",
        "- 94800\n",
        "- Frequency 1 \n",
        "\n",
        "It shared a similar postal code '75015' with most popular postal code for picking blue cars at the most popular hour.However it had  a lower frequency\n",
        "\n",
        "The most popular station 'Paris/Porte de Montrouge/8'  does not belong to either of these postal code "
      ],
      "metadata": {
        "id": "YDh9YsVn9TcF"
      }
    },
    {
      "cell_type": "markdown",
      "source": [
        "<font color=\"green\">Utilib 1.4</font>"
      ],
      "metadata": {
        "id": "F5cHYcb7C4eH"
      }
    },
    {
      "cell_type": "code",
      "source": [
        "# Challenge 9\n",
        "# Most popular postal code for picking Utilib 1.4 cars overall\n",
        "# selecting the location specifying the column for utilib cars. Perform a count of the post codes \n",
        "#\n",
        "autolib['Postal code'].loc[(autolib['Utilib 1.4 counter']) & (autolib['returned/picked'] == 'picked')].value_counts()\n",
        "\n",
        "# Detrmining the postal code most used using the mode method\n",
        "autolib['Postal code'].loc[(autolib['Utilib 1.4 counter']) & (autolib['returned/picked'] == 'picked')].mode()\n"
      ],
      "metadata": {
        "colab": {
          "base_uri": "https://localhost:8080/"
        },
        "id": "hvZmJ9IZJOyy",
        "outputId": "111c0af2-ff35-49b0-d1b9-86d9dac2557b"
      },
      "execution_count": 31,
      "outputs": [
        {
          "output_type": "execute_result",
          "data": {
            "text/plain": [
              "0    75017\n",
              "dtype: int64"
            ]
          },
          "metadata": {},
          "execution_count": 31
        }
      ]
    },
    {
      "cell_type": "markdown",
      "source": [
        "The most popular postal code for picking Utilib 1.4 cars overall;\n",
        "- Postal code 75017 \n",
        "- Frequency 19\n",
        "\n",
        "Its postal code is similar to the most popular postal code for picking blue cars. However it has a lower frequency"
      ],
      "metadata": {
        "id": "EPXdRJ-dJU-m"
      }
    },
    {
      "cell_type": "code",
      "source": [
        "# Challenge 10\n",
        "# postal code most popular for  picking Utilib 1.4 cars at the most popular hour\n",
        "# Finding the frequency of the unique postal codes at the most popular hour for utilib 1.4 cars using value counts method\n",
        "#\n",
        "autolib['Postal code'].loc[(autolib['hour'] == '2') & (autolib['Utilib 1.4 counter']) & (autolib['returned/picked'] == 'picked')].value_counts()\n",
        "\n",
        "# using location to group the data sets by car (Utilib 1.4), most popular hour, and picking status. \n",
        "# Using mode function to get most popular postal code in this grouping\n",
        "#\n",
        "autolib['Postal code'].loc[(autolib['hour'] == '2') & (autolib['Utilib 1.4 counter']) & (autolib['returned/picked'] == 'picked')].mode()\n"
      ],
      "metadata": {
        "colab": {
          "base_uri": "https://localhost:8080/"
        },
        "id": "FKDu3pZuJOj1",
        "outputId": "180a5c54-d9a9-40da-9a0b-5c2a1da5d290"
      },
      "execution_count": 32,
      "outputs": [
        {
          "output_type": "execute_result",
          "data": {
            "text/plain": [
              "0    92130\n",
              "1    92150\n",
              "dtype: int64"
            ]
          },
          "metadata": {},
          "execution_count": 32
        }
      ]
    },
    {
      "cell_type": "markdown",
      "source": [
        "The most popular postal codes for picking utilib 1.4 cars at the most popular picking hour;\n",
        "- Postal code 92130\n",
        "- Postal code 92150\n",
        "- Frequency 2 respectively\n",
        "\n",
        "The most popular postal codes for picking utilib 1.4 cars were different from the most popular postal code for picking blue cars at this hour\n",
        "\n",
        "The most popular station 'Paris/Porte de Montrouge/8'  does not belong to this postal code "
      ],
      "metadata": {
        "id": "SZWeVULNJZER"
      }
    },
    {
      "cell_type": "markdown",
      "source": [
        "<font color=\"green\">Other</font>"
      ],
      "metadata": {
        "id": "Dlig-aDp7A4y"
      }
    },
    {
      "cell_type": "code",
      "source": [
        "# Challenge 11\n",
        "# Charging status\n",
        "# establish number of charging status that are exitent \n",
        "# using value counts method to determine frequency and the unique characters in charging status column\n",
        "#\n",
        "autolib['Charging Status'].value_counts()"
      ],
      "metadata": {
        "colab": {
          "base_uri": "https://localhost:8080/"
        },
        "id": "g-BF1-YDMxZk",
        "outputId": "4736e8aa-7e5d-4a71-c7d3-5fcd73487725"
      },
      "execution_count": 33,
      "outputs": [
        {
          "output_type": "execute_result",
          "data": {
            "text/plain": [
              "nonexistent    2886\n",
              "operational    1995\n",
              "broken          119\n",
              "Name: Charging Status, dtype: int64"
            ]
          },
          "metadata": {},
          "execution_count": 33
        }
      ]
    },
    {
      "cell_type": "markdown",
      "source": [
        "Charging status\n",
        "- nonexistent    2886\n",
        "- operational    1995\n",
        "- broken          119"
      ],
      "metadata": {
        "id": "incLfNuANxwO"
      }
    },
    {
      "cell_type": "code",
      "source": [
        "# Challenge 12\n",
        "# Rental status\n",
        "# Establish number of cars in operational condition, broken, planned and nonexitent\n",
        "# Analysing the unique items in rental status column using value counts method\n",
        "#\n",
        "autolib['Rental status'].value_counts()"
      ],
      "metadata": {
        "colab": {
          "base_uri": "https://localhost:8080/"
        },
        "id": "tFmEtwXQOB5c",
        "outputId": "2642f6b6-5d92-4bd7-a4a0-51254b277301"
      },
      "execution_count": 34,
      "outputs": [
        {
          "output_type": "execute_result",
          "data": {
            "text/plain": [
              "operational    4618\n",
              "broken          332\n",
              "future           47\n",
              "nonexistent       3\n",
              "Name: Rental status, dtype: int64"
            ]
          },
          "metadata": {},
          "execution_count": 34
        }
      ]
    },
    {
      "cell_type": "markdown",
      "source": [
        "Rental status\n",
        "- operational    4618\n",
        "- broken          332\n",
        "- future           47\n",
        "- nonexistent       3"
      ],
      "metadata": {
        "id": "BnESn6T2Ov4n"
      }
    }
  ]
}